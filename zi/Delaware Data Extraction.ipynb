{
 "cells": [
  {
   "cell_type": "markdown",
   "metadata": {},
   "source": [
    "Import statements"
   ]
  },
  {
   "cell_type": "code",
   "execution_count": 6,
   "metadata": {
    "collapsed": true
   },
   "outputs": [],
   "source": [
    "import requests\n",
    "from bs4 import BeautifulSoup\n",
    "import string\n",
    "import csv\n",
    "import textract\n",
    "from pathlib import Path\n",
    "import re\n",
    "import pandas as pd"
   ]
  },
  {
   "cell_type": "markdown",
   "metadata": {},
   "source": [
    "Scraping from main data breach archive"
   ]
  },
  {
   "cell_type": "code",
   "execution_count": 7,
   "metadata": {
    "collapsed": true
   },
   "outputs": [],
   "source": [
    "response = requests.get('https://www.in.gov/attorneygeneral/2874.htm')\n",
    "c = response.content\n",
    "soup = BeautifulSoup(c, \"lxml\")\n",
    "breach_links = soup.find('p', relativehref='[ioID]8026AD70E4164E4E9F9FE8FA5553BA5C/2016_04_01_ITU_Breach(1).pdf')"
   ]
  },
  {
   "cell_type": "markdown",
   "metadata": {},
   "source": [
    "Finding links to all breach files"
   ]
  },
  {
   "cell_type": "code",
   "execution_count": 8,
   "metadata": {
    "collapsed": false
   },
   "outputs": [],
   "source": [
    "breach_links = breach_links.find_all('a')\n",
    "url_front = 'https://www.in.gov/'"
   ]
  },
  {
   "cell_type": "markdown",
   "metadata": {},
   "source": [
    "Constructing full links to breach files"
   ]
  },
  {
   "cell_type": "code",
   "execution_count": 9,
   "metadata": {
    "collapsed": false
   },
   "outputs": [],
   "source": [
    "full_breach_links = []\n",
    "for link in breach_links:\n",
    "    full_link = url_front + link.get('href')\n",
    "    full_breach_links.append(full_link)"
   ]
  },
  {
   "cell_type": "code",
   "execution_count": 10,
   "metadata": {
    "collapsed": false
   },
   "outputs": [
    {
     "name": "stdout",
     "output_type": "stream",
     "text": [
      ".pdf\n",
      ".pdf\n",
      ".xlsx\n",
      ".xlsx\n",
      ".xlsx\n",
      ".xlsx\n"
     ]
    }
   ],
   "source": [
    "i = 2014\n",
    "for url in full_breach_links:\n",
    "    response = requests.get(url)\n",
    "    link_end = re.search(\"[.][pdfxlsx]+\", url)\n",
    "    link_end = link_end.group(0)\n",
    "    print (link_end)\n",
    "    try:\n",
    "        filename = Path('Data/IND/{}_data{}'.format(i,link_end))\n",
    "        filename.write_bytes(response.content)\n",
    "        i+=1\n",
    "    except:\n",
    "        pass"
   ]
  },
  {
   "cell_type": "code",
   "execution_count": 4,
   "metadata": {
    "collapsed": true
   },
   "outputs": [
    {
     "data": {
      "text/plain": [
       "[    0   1   2   3\n",
       " 0 NaN NaN NaN NaN]"
      ]
     },
     "execution_count": 4,
     "metadata": {},
     "output_type": "execute_result"
    }
   ],
   "source": [
    "import pandas as pd\n",
    "pd.read_html('https://www.in.gov/attorneygeneral/2874.htm')"
   ]
  },
  {
   "cell_type": "code",
   "execution_count": null,
   "metadata": {},
   "outputs": [],
   "source": []
  }
 ],
 "metadata": {
  "anaconda-cloud": {},
  "kernelspec": {
   "display_name": "Python 3",
   "language": "python",
   "name": "python3"
  },
  "language_info": {
   "codemirror_mode": {
    "name": "ipython",
    "version": 3
   },
   "file_extension": ".py",
   "mimetype": "text/x-python",
   "name": "python",
   "nbconvert_exporter": "python",
   "pygments_lexer": "ipython3",
   "version": "3.7.1"
  }
 },
 "nbformat": 4,
 "nbformat_minor": 2
}
