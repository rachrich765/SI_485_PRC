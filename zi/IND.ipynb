{
 "cells": [
  {
   "cell_type": "code",
   "execution_count": 3,
   "metadata": {
    "collapsed": true
   },
   "outputs": [],
   "source": [
    "import requests\n",
    "from bs4 import BeautifulSoup\n",
    "import string\n",
    "import csv\n",
    "import textract\n",
    "import pandas as pd"
   ]
  },
  {
   "cell_type": "code",
   "execution_count": 4,
   "metadata": {},
   "outputs": [
    {
     "data": {
      "text/plain": [
       "[                 Organization Name                        Date(s) of Breach  \\\n",
       " 0            Delta Air Lines, Inc.                      09/26/17 – 10/12/17   \n",
       " 1                ComplyRight, Inc.                      04/20/18 – 05/22/18   \n",
       " 2             Hudson’s Bay Company                      07/01/17 – 03/31/18   \n",
       " 3            Brinker International                            03/18 – 04/18   \n",
       " 4                  CPT Group, Inc.                      11/22/17 – 12/08/17   \n",
       " 5                 TaskRabbit, Inc.                                 04/11/18   \n",
       " 6   Starr Insurance Holdings, Inc.                                 04/24/18   \n",
       " 7                  CBS Interactive                      01/01/18 – 05/16/18   \n",
       " 8                  SEIU Local 32BJ                      11/13/17 – 11/14/17   \n",
       " 9                     Transamerica                            03/17 – 01/18   \n",
       " 10    Elmcroft Senior Living, Inc.                      05/10/18 – 05/12/18   \n",
       " 11                MyHeritage, Ltd.                                 10/26/17   \n",
       " 12              ATI Holdings, LLC.  01/09/18 – 01/12/18 02/26/18 – 03/15/18   \n",
       " 13                       MedEvolve                         03/29/18-05/4/18   \n",
       " 14              CNG Financial Corp                        07/11/18-07/16/18   \n",
       " 15                    Animoto, Inc                                 07/10/18   \n",
       " 16       Cheddar’s Scratch Kitchen                       11/3/18 – 01/02/18   \n",
       " 17                 Tech Rabbit LLC                      02/22/17 – 05/22/18   \n",
       " 18          Performance Food Group                                  Unknown   \n",
       " 19            Travel Leaders Group                      06/14/18 – 07/25/18   \n",
       " 20                    Bankers Life                      05/30/18 – 09/13/18   \n",
       " 21              TengoInternet Inc.                           prior to 04/18   \n",
       " 22     Jand Inc d/b/a/Warby Parker                          9/25 – 11/26/18   \n",
       " \n",
       "    Reported Date Number of Potentially Affected Delaware Residents  \\\n",
       " 0       04/11/18                                               763   \n",
       " 1       07/12/18                                               888   \n",
       " 2       04/26/18                                           Unknown   \n",
       " 3       05/18/18                                           Unknown   \n",
       " 4       05/08/18                                               690   \n",
       " 5       05/14/18                                              4747   \n",
       " 6       05/24/18                                                 1   \n",
       " 7       05/25/18                                               847   \n",
       " 8       05/26/18                                              1015   \n",
       " 9       06/01/18                                                 3   \n",
       " 10      06/08/18                                                30   \n",
       " 11      06/15/18                                           Unknown   \n",
       " 12      06/21/18                                              4272   \n",
       " 13      07/10/18                                             10565   \n",
       " 14      08/15/18                                              2635   \n",
       " 15      08/16/18                                              8842   \n",
       " 16      08/22/18                                           Unknown   \n",
       " 17      09/21/18                                               817   \n",
       " 18      09/19/18                                               575   \n",
       " 19      10/22/18                                                 1   \n",
       " 20      10/25/18                                              9451   \n",
       " 21      10/26/18                                              1874   \n",
       " 22      12/20/18                                           unknown   \n",
       " \n",
       "    Sample of Notice  \n",
       " 0              View  \n",
       " 1              View  \n",
       " 2              View  \n",
       " 3              View  \n",
       " 4              View  \n",
       " 5              View  \n",
       " 6              View  \n",
       " 7              View  \n",
       " 8              View  \n",
       " 9              View  \n",
       " 10             View  \n",
       " 11             View  \n",
       " 12             View  \n",
       " 13             View  \n",
       " 14             View  \n",
       " 15             View  \n",
       " 16             View  \n",
       " 17             View  \n",
       " 18             View  \n",
       " 19             View  \n",
       " 20             View  \n",
       " 21             View  \n",
       " 22             View  ]"
      ]
     },
     "execution_count": 4,
     "metadata": {},
     "output_type": "execute_result"
    }
   ],
   "source": [
    "pd.read_html('https://attorneygeneral.delaware.gov/fraud/cpu/securitybreachnotification/database/')"
   ]
  },
  {
   "cell_type": "code",
   "execution_count": 6,
   "metadata": {
    "collapsed": true
   },
   "outputs": [],
   "source": [
    "response = requests.get('https://attorneygeneral.delaware.gov/fraud/cpu/securitybreachnotification/database/')\n",
    "c = response.content\n",
    "soup = BeautifulSoup(c, \"lxml\")\n",
    "breach_table = soup.find('table')\n",
    "headers = [header.text for header in breach_table.find_all('th')]"
   ]
  },
  {
   "cell_type": "code",
   "execution_count": 7,
   "metadata": {
    "collapsed": false
   },
   "outputs": [
    {
     "data": {
      "text/plain": [
       "['Organization Name',\n",
       " 'Date(s) of Breach',\n",
       " 'Reported Date',\n",
       " 'Number of Potentially Affected Delaware Residents',\n",
       " 'Sample of Notice']"
      ]
     },
     "execution_count": 7,
     "metadata": {},
     "output_type": "execute_result"
    }
   ],
   "source": [
    "headers"
   ]
  },
  {
   "cell_type": "code",
   "execution_count": 8,
   "metadata": {
    "collapsed": true
   },
   "outputs": [],
   "source": [
    "rows = []\n",
    "for row in breach_table.find_all('tr'):\n",
    "    rows.append([val.text for val in row.find_all('td')])\n",
    "refined_rows = []\n",
    "for item in rows:\n",
    "    for it in item:\n",
    "        it = str(it)\n",
    "        it = it.strip()\n",
    "        refined_rows.append(it)\n",
    "str_list = list(filter(None, refined_rows))"
   ]
  },
  {
   "cell_type": "code",
   "execution_count": 9,
   "metadata": {
    "collapsed": false
   },
   "outputs": [
    {
     "ename": "FileNotFoundError",
     "evalue": "[Errno 2] No such file or directory: 'Data//DL/DL_Data.csv'",
     "output_type": "error",
     "traceback": [
      "\u001b[0;31m---------------------------------------------------------------------------\u001b[0m",
      "\u001b[0;31mFileNotFoundError\u001b[0m                         Traceback (most recent call last)",
      "\u001b[0;32m<ipython-input-9-d35c4fcb86a6>\u001b[0m in \u001b[0;36m<module>\u001b[0;34m\u001b[0m\n\u001b[0;32m----> 1\u001b[0;31m \u001b[0;32mwith\u001b[0m \u001b[0mopen\u001b[0m\u001b[0;34m(\u001b[0m\u001b[0;34m'Data//DL/DL_Data.csv'\u001b[0m\u001b[0;34m,\u001b[0m \u001b[0;34m'w'\u001b[0m\u001b[0;34m)\u001b[0m \u001b[0;32mas\u001b[0m \u001b[0mf\u001b[0m\u001b[0;34m:\u001b[0m\u001b[0;34m\u001b[0m\u001b[0;34m\u001b[0m\u001b[0m\n\u001b[0m\u001b[1;32m      2\u001b[0m     \u001b[0mwriter\u001b[0m \u001b[0;34m=\u001b[0m \u001b[0mcsv\u001b[0m\u001b[0;34m.\u001b[0m\u001b[0mwriter\u001b[0m\u001b[0;34m(\u001b[0m\u001b[0mf\u001b[0m\u001b[0;34m)\u001b[0m\u001b[0;34m\u001b[0m\u001b[0;34m\u001b[0m\u001b[0m\n\u001b[1;32m      3\u001b[0m     \u001b[0mwriter\u001b[0m\u001b[0;34m.\u001b[0m\u001b[0mwriterow\u001b[0m\u001b[0;34m(\u001b[0m\u001b[0mheaders\u001b[0m\u001b[0;34m)\u001b[0m\u001b[0;34m\u001b[0m\u001b[0;34m\u001b[0m\u001b[0m\n\u001b[1;32m      4\u001b[0m     \u001b[0mwriter\u001b[0m\u001b[0;34m.\u001b[0m\u001b[0mwriterows\u001b[0m\u001b[0;34m(\u001b[0m\u001b[0mrow\u001b[0m \u001b[0;32mfor\u001b[0m \u001b[0mrow\u001b[0m \u001b[0;32min\u001b[0m \u001b[0mrows\u001b[0m \u001b[0;32mif\u001b[0m \u001b[0mrow\u001b[0m\u001b[0;34m)\u001b[0m\u001b[0;34m\u001b[0m\u001b[0;34m\u001b[0m\u001b[0m\n",
      "\u001b[0;31mFileNotFoundError\u001b[0m: [Errno 2] No such file or directory: 'Data//DL/DL_Data.csv'"
     ]
    }
   ],
   "source": [
    "with open('Data//DL/DL_Data.csv', 'w') as f:\n",
    "    writer = csv.writer(f)\n",
    "    writer.writerow(headers)\n",
    "    writer.writerows(row for row in rows if row)"
   ]
  },
  {
   "cell_type": "code",
   "execution_count": 12,
   "metadata": {
    "collapsed": false
   },
   "outputs": [
    {
     "data": {
      "text/plain": [
       "[<a href=\"https://attorneygeneral.delaware.gov/wp-content/uploads/sites/50/2018/05/Delta-Airlines-Data-Breach-Sample-Consumer-Notice.pdf\" rel=\"noopener\" target=\"_blank\">View</a>,\n",
       " <a href=\"https://attorneygeneral.delaware.gov/wp-content/uploads/sites/50/2018/08/ComplyRight-Sample-Notice.pdf\" rel=\"noopener\" target=\"_blank\">View</a>,\n",
       " <a href=\"https://attorneygeneral.delaware.gov/wp-content/uploads/sites/50/2018/05/Hudsons-Bay-Company-Data-Breach-Sample-Notice.pdf\" rel=\"noopener\" target=\"_blank\">View</a>,\n",
       " <a href=\"https://attorneygeneral.delaware.gov/wp-content/uploads/sites/50/2018/05/Brinker-Chilis-Data-Breach-Notice.pdf\" rel=\"noopener\" target=\"_blank\">View</a>,\n",
       " <a href=\"https://attorneygeneral.delaware.gov/wp-content/uploads/sites/50/2018/06/CPT-Group-Sample-Notice.pdf\" rel=\"noopener\" target=\"_blank\">View</a>,\n",
       " <a href=\"https://attorneygeneral.delaware.gov/wp-content/uploads/sites/50/2018/06/TaskRabbit-Sample-Notice.pdf\" rel=\"noopener\" target=\"_blank\">View</a>,\n",
       " <a href=\"https://attorneygeneral.delaware.gov/wp-content/uploads/sites/50/2018/06/Starr-Insurance-Holdings-Sample-Notice.pdf\" rel=\"noopener\" target=\"_blank\">View</a>,\n",
       " <a href=\"https://attorneygeneral.delaware.gov/wp-content/uploads/sites/50/2018/06/CBS-Interactive-Sample-Notice.pdf\" rel=\"noopener\" target=\"_blank\">View</a>,\n",
       " <a href=\"https://attorneygeneral.delaware.gov/wp-content/uploads/sites/50/2018/06/SEUI-Local-32BJ-Sample-Notice.pdf\" rel=\"noopener\" target=\"_blank\">View</a>,\n",
       " <a href=\"https://attorneygeneral.delaware.gov/wp-content/uploads/sites/50/2018/06/Transamerica-Sample-Notice.pdf\" rel=\"noopener\" target=\"_blank\">View</a>,\n",
       " <a href=\"https://attorneygeneral.delaware.gov/wp-content/uploads/sites/50/2018/06/Elmcroft-Senior-Living-Sample-Notice.pdf\" rel=\"noopener\" target=\"_blank\">View</a>,\n",
       " <a href=\"https://attorneygeneral.delaware.gov/wp-content/uploads/sites/50/2018/06/MyHeritage-Sample-Notice.pdf\" rel=\"noopener\" target=\"_blank\">View</a>,\n",
       " <a href=\"https://attorneygeneral.delaware.gov/wp-content/uploads/sites/50/2018/07/ATI-Holdings-LLC-Sample-Notice.pdf\" rel=\"noopener\" target=\"_blank\">View</a>,\n",
       " <a href=\"https://attorneygeneral.delaware.gov/wp-content/uploads/sites/50/2018/08/Medevolve-sample-letter.pdf\">View</a>,\n",
       " <a href=\"https://attorneygeneral.delaware.gov/wp-content/uploads/sites/50/2018/08/CNG-Financial-Corp-Sample-Notice.pdf\">View</a>,\n",
       " <a href=\"https://attorneygeneral.delaware.gov/wp-content/uploads/sites/50/2018/08/Animoto-Inc.-Data-Breach-notice.pdf\">View</a>,\n",
       " <a href=\"https://attorneygeneral.delaware.gov/wp-content/uploads/sites/50/2018/08/Cheddars-Notification.pdf\">View</a>,\n",
       " <a href=\"https://attorneygeneral.delaware.gov/wp-content/uploads/sites/50/2018/09/Tech-Rabbit-LLC-Sample-Notice-of-Security-Incident.pdf\">View</a>,\n",
       " <a href=\"https://attorneygeneral.delaware.gov/wp-content/uploads/sites/50/2018/09/Performance-Food-Group-Notice.pdf\">View</a>,\n",
       " <a href=\"https://attorneygeneral.delaware.gov/wp-content/uploads/sites/50/2018/11/Travel-Leaders-Group-Data-Breach-Customer-Notification-Delaware-State-Template.pdf\">View</a>,\n",
       " <a href=\"https://attorneygeneral.delaware.gov/wp-content/uploads/sites/50/2018/11/GEN1-and-GEN2-Notices.pdf\">View</a>,\n",
       " <a href=\"https://attorneygeneral.delaware.gov/wp-content/uploads/sites/50/2018/11/TengoInternet-Inc..pdf\">View</a>,\n",
       " <a href=\"https://attorneygeneral.delaware.gov/wp-content/uploads/sites/50/2019/02/WarbyParker.pdf\">View</a>]"
      ]
     },
     "execution_count": 12,
     "metadata": {},
     "output_type": "execute_result"
    }
   ],
   "source": [
    "import re\n",
    "links = soup.tbody.find_all('a')\n",
    "links_sample = links[:1]\n",
    "from pathlib import Path\n",
    "links"
   ]
  },
  {
   "cell_type": "code",
   "execution_count": 15,
   "metadata": {
    "collapsed": false
   },
   "outputs": [],
   "source": [
    "rows = [row for row in rows if len(row)>2]"
   ]
  },
  {
   "cell_type": "code",
   "execution_count": 16,
   "metadata": {
    "collapsed": false
   },
   "outputs": [],
   "source": [
    "companies = [row[0] for row in rows]"
   ]
  },
  {
   "cell_type": "code",
   "execution_count": 19,
   "metadata": {
    "collapsed": false
   },
   "outputs": [],
   "source": [
    "i = 0\n",
    "for link in links:\n",
    "#     print(link.get('href'))\n",
    "#     resp = requests.get(link.get('href'))\n",
    "#     c = resp.content\n",
    "#     soup = BeautifulSoup(c, \"lxml\")\n",
    "#     span = soup.find(class_=\"file\")\n",
    "    try:\n",
    "        filename = Path('Data/DL/{}_sample_notice.pdf'.format(companies[i]))\n",
    "        url = link.get('href')\n",
    "        response = requests.get(url)\n",
    "        filename.write_bytes(response.content)\n",
    "        i+=1\n",
    "    \n",
    "    except:\n",
    "        i+=1\n",
    "        pass\n",
    "    "
   ]
  },
  {
   "cell_type": "code",
   "execution_count": null,
   "metadata": {
    "collapsed": false
   },
   "outputs": [],
   "source": [
    "links"
   ]
  },
  {
   "cell_type": "code",
   "execution_count": null,
   "metadata": {
    "collapsed": true
   },
   "outputs": [],
   "source": []
  }
 ],
 "metadata": {
  "anaconda-cloud": {},
  "kernelspec": {
   "display_name": "Python 3",
   "language": "python",
   "name": "python3"
  },
  "language_info": {
   "codemirror_mode": {
    "name": "ipython",
    "version": 3
   },
   "file_extension": ".py",
   "mimetype": "text/x-python",
   "name": "python",
   "nbconvert_exporter": "python",
   "pygments_lexer": "ipython3",
   "version": "3.7.1"
  }
 },
 "nbformat": 4,
 "nbformat_minor": 2
}
