{
 "cells": [
  {
   "cell_type": "code",
   "execution_count": 2,
   "metadata": {
    "collapsed": true
   },
   "outputs": [],
   "source": [
    "import requests\n",
    "from bs4 import BeautifulSoup\n",
    "import string\n",
    "import csv\n",
    "import textract"
   ]
  },
  {
   "cell_type": "code",
   "execution_count": 3,
   "metadata": {
    "collapsed": true
   },
   "outputs": [],
   "source": [
    "response = requests.get('https://attorneygeneral.delaware.gov/fraud/cpu/securitybreachnotification/database/')\n",
    "c = response.content\n",
    "soup = BeautifulSoup(c, \"lxml\")\n",
    "breach_table = soup.find('table')\n",
    "headers = [header.text for header in breach_table.find_all('th')]"
   ]
  },
  {
   "cell_type": "code",
   "execution_count": 4,
   "metadata": {
    "collapsed": false
   },
   "outputs": [
    {
     "data": {
      "text/plain": [
       "['Organization Name',\n",
       " 'Date(s) of Breach',\n",
       " 'Reported Date',\n",
       " 'Number of Potentially Affected Delaware Residents',\n",
       " 'Sample of Notice']"
      ]
     },
     "execution_count": 4,
     "metadata": {},
     "output_type": "execute_result"
    }
   ],
   "source": [
    "headers"
   ]
  },
  {
   "cell_type": "code",
   "execution_count": 5,
   "metadata": {
    "collapsed": true
   },
   "outputs": [],
   "source": [
    "rows = []\n",
    "for row in breach_table.find_all('tr'):\n",
    "    rows.append([val.text for val in row.find_all('td')])\n",
    "refined_rows = []\n",
    "for item in rows:\n",
    "    for it in item:\n",
    "        it = str(it)\n",
    "        it = it.strip()\n",
    "        refined_rows.append(it)\n",
    "str_list = list(filter(None, refined_rows))"
   ]
  },
  {
   "cell_type": "code",
   "execution_count": 6,
   "metadata": {
    "collapsed": false
   },
   "outputs": [],
   "source": [
    "with open('Data//DL/DL_Data.csv', 'w') as f:\n",
    "    writer = csv.writer(f)\n",
    "    writer.writerow(headers)\n",
    "    writer.writerows(row for row in rows if row)"
   ]
  },
  {
   "cell_type": "code",
   "execution_count": 7,
   "metadata": {
    "collapsed": false
   },
   "outputs": [],
   "source": [
    "import re\n",
    "links = soup.tbody.find_all('a')\n",
    "links_sample = links[:1]\n",
    "from pathlib import Path"
   ]
  },
  {
   "cell_type": "code",
   "execution_count": 15,
   "metadata": {
    "collapsed": false
   },
   "outputs": [],
   "source": [
    "rows = [row for row in rows if len(row)>2]"
   ]
  },
  {
   "cell_type": "code",
   "execution_count": 16,
   "metadata": {
    "collapsed": false
   },
   "outputs": [],
   "source": [
    "companies = [row[0] for row in rows]"
   ]
  },
  {
   "cell_type": "code",
   "execution_count": 19,
   "metadata": {
    "collapsed": false
   },
   "outputs": [],
   "source": [
    "i = 0\n",
    "for link in links:\n",
    "#     print(link.get('href'))\n",
    "#     resp = requests.get(link.get('href'))\n",
    "#     c = resp.content\n",
    "#     soup = BeautifulSoup(c, \"lxml\")\n",
    "#     span = soup.find(class_=\"file\")\n",
    "    try:\n",
    "        filename = Path('Data/DL/{}_sample_notice.pdf'.format(companies[i]))\n",
    "        url = link.get('href')\n",
    "        response = requests.get(url)\n",
    "        filename.write_bytes(response.content)\n",
    "        i+=1\n",
    "    \n",
    "    except:\n",
    "        i+=1\n",
    "        pass\n",
    "    "
   ]
  },
  {
   "cell_type": "code",
   "execution_count": null,
   "metadata": {
    "collapsed": false
   },
   "outputs": [],
   "source": [
    "links"
   ]
  },
  {
   "cell_type": "code",
   "execution_count": null,
   "metadata": {
    "collapsed": true
   },
   "outputs": [],
   "source": []
  }
 ],
 "metadata": {
  "anaconda-cloud": {},
  "kernelspec": {
   "display_name": "Python 3",
   "language": "python",
   "name": "python3"
  },
  "language_info": {
   "codemirror_mode": {
    "name": "ipython",
    "version": 3
   },
   "file_extension": ".py",
   "mimetype": "text/x-python",
   "name": "python",
   "nbconvert_exporter": "python",
   "pygments_lexer": "ipython3",
   "version": "3.7.1"
  }
 },
 "nbformat": 4,
 "nbformat_minor": 2
}
