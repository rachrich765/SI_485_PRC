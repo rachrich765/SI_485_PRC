{
 "cells": [
  {
   "cell_type": "code",
   "execution_count": 96,
   "metadata": {
    "collapsed": true
   },
   "outputs": [],
   "source": [
    "import requests\n",
    "from bs4 import BeautifulSoup\n",
    "import string\n",
    "import csv"
   ]
  },
  {
   "cell_type": "code",
   "execution_count": 1,
   "metadata": {
    "collapsed": true
   },
   "outputs": [],
   "source": [
    "try:\n",
    "    file_object  = open(\"last_extracted_year.txt\", \"r\")\n",
    "    last_extracted_year = int(file_object.read())\n",
    "except:\n",
    "    last_extracted_year = 2011"
   ]
  },
  {
   "cell_type": "code",
   "execution_count": null,
   "metadata": {
    "collapsed": false
   },
   "outputs": [],
   "source": [
    "while last_extracted_year < 2100:\n",
    "    try:\n",
    "        response = requests.get('https://www.iowaattorneygeneral.gov/for-consumers/security-breach-notifications/{}-security-breach-notifications/'.format(last_extracted_year))\n",
    "        c = response.content\n",
    "        soup = BeautifulSoup(c, \"lxml\")\n",
    "        breach_table = soup.find('table')\n",
    "        headers = [header.text for header in breach_table.find_all('h4')]\n",
    "        rows = []\n",
    "        for row in breach_table.find_all('tr'):\n",
    "            rows.append([val.text for val in row.find_all('td')])\n",
    "        refined_rows = []\n",
    "        for item in rows:\n",
    "            for it in item:\n",
    "                it = str(it)\n",
    "                it = it.strip()\n",
    "                refined_rows.append(it)\n",
    "        str_list = list(filter(None, refined_rows))\n",
    "        with open('Data/IO/{}_IOWA_Data.csv'.format(last_extracted_year), 'w') as f:\n",
    "            writer = csv.writer(f)\n",
    "            writer.writerow(headers)\n",
    "            writer.writerows(row for row in rows if row)\n",
    "        last_extracted_year = last_extracted_year+1\n",
    "    except:\n",
    "        file_object  = open(\"Data/IO/last_extracted_year.txt\", \"w\")\n",
    "        file_object.write(str(last_extracted_year))\n",
    "        file_object.close()"
   ]
  },
  {
   "cell_type": "code",
   "execution_count": null,
   "metadata": {
    "collapsed": false
   },
   "outputs": [],
   "source": [
    "last_extracted_year"
   ]
  },
  {
   "cell_type": "code",
   "execution_count": 93,
   "metadata": {
    "collapsed": false
   },
   "outputs": [],
   "source": []
  },
  {
   "cell_type": "code",
   "execution_count": null,
   "metadata": {
    "collapsed": true
   },
   "outputs": [],
   "source": []
  }
 ],
 "metadata": {
  "anaconda-cloud": {},
  "kernelspec": {
   "display_name": "Python 3",
   "language": "python",
   "name": "python3"
  },
  "language_info": {
   "codemirror_mode": {
    "name": "ipython",
    "version": 3
   },
   "file_extension": ".py",
   "mimetype": "text/x-python",
   "name": "python",
   "nbconvert_exporter": "python",
   "pygments_lexer": "ipython3",
   "version": "3.7.1"
  }
 },
 "nbformat": 4,
 "nbformat_minor": 2
}
