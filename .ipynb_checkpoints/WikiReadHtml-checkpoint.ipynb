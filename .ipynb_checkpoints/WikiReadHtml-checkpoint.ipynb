{
 "cells": [
  {
   "cell_type": "code",
   "execution_count": 14,
   "metadata": {},
   "outputs": [],
   "source": [
    "import wikipedia\n",
    "import pandas as pd\n",
    "import re"
   ]
  },
  {
   "cell_type": "code",
   "execution_count": 2,
   "metadata": {},
   "outputs": [],
   "source": [
    "x = wikipedia.page(\"Qualtrics\")\n",
    "url = x.url"
   ]
  },
  {
   "cell_type": "code",
   "execution_count": 3,
   "metadata": {},
   "outputs": [],
   "source": [
    "info_box = pd.read_html(url, attrs = {'class':'infobox'})"
   ]
  },
  {
   "cell_type": "code",
   "execution_count": 4,
   "metadata": {},
   "outputs": [
    {
     "data": {
      "text/html": [
       "<div>\n",
       "<style scoped>\n",
       "    .dataframe tbody tr th:only-of-type {\n",
       "        vertical-align: middle;\n",
       "    }\n",
       "\n",
       "    .dataframe tbody tr th {\n",
       "        vertical-align: top;\n",
       "    }\n",
       "\n",
       "    .dataframe thead th {\n",
       "        text-align: right;\n",
       "    }\n",
       "</style>\n",
       "<table border=\"1\" class=\"dataframe\">\n",
       "  <thead>\n",
       "    <tr style=\"text-align: right;\">\n",
       "      <th></th>\n",
       "      <th>0</th>\n",
       "      <th>1</th>\n",
       "    </tr>\n",
       "  </thead>\n",
       "  <tbody>\n",
       "    <tr>\n",
       "      <th>0</th>\n",
       "      <td>NaN</td>\n",
       "      <td>NaN</td>\n",
       "    </tr>\n",
       "    <tr>\n",
       "      <th>1</th>\n",
       "      <td>Type</td>\n",
       "      <td>Private</td>\n",
       "    </tr>\n",
       "    <tr>\n",
       "      <th>2</th>\n",
       "      <td>Industry</td>\n",
       "      <td>Experience Management</td>\n",
       "    </tr>\n",
       "    <tr>\n",
       "      <th>3</th>\n",
       "      <td>Founded</td>\n",
       "      <td>2002; 17 years ago</td>\n",
       "    </tr>\n",
       "    <tr>\n",
       "      <th>4</th>\n",
       "      <td>Founders</td>\n",
       "      <td>Scott M. SmithRyan SmithJared SmithStuart Orgill</td>\n",
       "    </tr>\n",
       "    <tr>\n",
       "      <th>5</th>\n",
       "      <td>Headquarters</td>\n",
       "      <td>Provo, Utah, U.S. Seattle, Washington, U.S.Oth...</td>\n",
       "    </tr>\n",
       "    <tr>\n",
       "      <th>6</th>\n",
       "      <td>Key people</td>\n",
       "      <td>Ryan Smith, CEO[1] Co-founder, Scott M. Smith,...</td>\n",
       "    </tr>\n",
       "    <tr>\n",
       "      <th>7</th>\n",
       "      <td>Products</td>\n",
       "      <td>Qualtrics XM Platform, Qualtrics Research Core...</td>\n",
       "    </tr>\n",
       "    <tr>\n",
       "      <th>8</th>\n",
       "      <td>Number of employees</td>\n",
       "      <td>2,100+</td>\n",
       "    </tr>\n",
       "    <tr>\n",
       "      <th>9</th>\n",
       "      <td>Parent</td>\n",
       "      <td>SAP</td>\n",
       "    </tr>\n",
       "    <tr>\n",
       "      <th>10</th>\n",
       "      <td>Website</td>\n",
       "      <td>Qualtrics.com</td>\n",
       "    </tr>\n",
       "  </tbody>\n",
       "</table>\n",
       "</div>"
      ],
      "text/plain": [
       "                      0                                                  1\n",
       "0                   NaN                                                NaN\n",
       "1                  Type                                            Private\n",
       "2              Industry                              Experience Management\n",
       "3               Founded                                 2002; 17 years ago\n",
       "4              Founders   Scott M. SmithRyan SmithJared SmithStuart Orgill\n",
       "5          Headquarters  Provo, Utah, U.S. Seattle, Washington, U.S.Oth...\n",
       "6            Key people  Ryan Smith, CEO[1] Co-founder, Scott M. Smith,...\n",
       "7              Products  Qualtrics XM Platform, Qualtrics Research Core...\n",
       "8   Number of employees                                             2,100+\n",
       "9                Parent                                                SAP\n",
       "10              Website                                      Qualtrics.com"
      ]
     },
     "execution_count": 4,
     "metadata": {},
     "output_type": "execute_result"
    }
   ],
   "source": [
    "info_box[0]"
   ]
  },
  {
   "cell_type": "code",
   "execution_count": 17,
   "metadata": {},
   "outputs": [],
   "source": [
    "def get_info(company_name):\n",
    "    industry, website, products, parent = '','','',''\n",
    "    x = wikipedia.page(company_name)\n",
    "    url = x.url\n",
    "    info_box = pd.read_html(url, attrs = {'class':'infobox'})[0].set_index(0)\n",
    "    \n",
    "    #FILL IN TO EXTRACT INFO\n",
    "    try:\n",
    "        industry = info_box.loc['Industry',1]\n",
    "        #(https?:\\/\\/(?:www\\.|(?!www))[a-zA-Z0-9][a-zA-Z0-9-]+[a-zA-Z0-9]\\.[^\\s]{2,}|www\\.[a-zA-Z0-9][a-zA-Z0-9-]+[a-zA-Z0-9]\\.[^\\s]{2,}|https?:\\/\\/(?:www\\.|(?!www))[a-zA-Z0-9]\\.[^\\s]{2,}|www\\.[a-zA-Z0-9]\\.[^\\s]{2,})\n",
    "\n",
    "        website  = re.findall(r'w*\\.*[a-zA-Z0-9]+\\.com',info_box.loc['Website',1])\n",
    "        #products = info_box.loc['Products',1]\n",
    "        parent   = info_box.loc['Parent',1]\n",
    "    except:\n",
    "        pass\n",
    "    \n",
    "    #return industry, website, products, parent \n",
    "    return industry, website, parent\n",
    "    "
   ]
  },
  {
   "cell_type": "code",
   "execution_count": 19,
   "metadata": {},
   "outputs": [
    {
     "data": {
      "text/plain": [
       "('Internet', ['www.facebook.com', 'www.fb.com'], 'MessengerWatch', '')"
      ]
     },
     "execution_count": 19,
     "metadata": {},
     "output_type": "execute_result"
    }
   ],
   "source": [
    "x = get_info(\"Facebook\")\n",
    "x"
   ]
  },
  {
   "cell_type": "code",
   "execution_count": null,
   "metadata": {},
   "outputs": [],
   "source": []
  }
 ],
 "metadata": {
  "kernelspec": {
   "display_name": "Python 3",
   "language": "python",
   "name": "python3"
  },
  "language_info": {
   "codemirror_mode": {
    "name": "ipython",
    "version": 3
   },
   "file_extension": ".py",
   "mimetype": "text/x-python",
   "name": "python",
   "nbconvert_exporter": "python",
   "pygments_lexer": "ipython3",
   "version": "3.7.1"
  }
 },
 "nbformat": 4,
 "nbformat_minor": 2
}
