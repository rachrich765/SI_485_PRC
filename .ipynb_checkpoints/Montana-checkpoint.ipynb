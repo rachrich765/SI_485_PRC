{
 "cells": [
  {
   "cell_type": "code",
   "execution_count": 1,
   "metadata": {
    "scrolled": true
   },
   "outputs": [],
   "source": []
  },
  {
   "cell_type": "code",
   "execution_count": null,
   "metadata": {},
   "outputs": [],
   "source": [
    "# import os  \n",
    "# from selenium import webdriver  \n",
    "# from selenium.webdriver.common.keys import Keys  \n",
    "# from selenium.webdriver.chrome.options import Options  \n",
    "\n",
    "# chrome_options = Options()  \n",
    "# chrome_options.add_argument(\"--headless\")  \n",
    "# chrome_options.binary_location = '/Applications/Google Chrome.app'    \n",
    "\n",
    "# driver = webdriver.Chrome(executable_path=os.path.abspath(\"chromedriver\"),   chrome_options=chrome_options)  \n",
    "# driver.get(\"http://www.duo.com\")  \n",
    "\n",
    "# magnifying_glass = driver.find_element_by_id(\"js-open-icon\")  \n",
    "# if magnifying_glass.is_displayed():  \n",
    "#     magnifying_glass.click()  \n",
    "# else:  \n",
    "#     menu_button = driver.find_element_by_css_selector(\".menu-trigger.local\")  \n",
    "#     menu_button.click()  \n",
    "\n",
    "# search_field = driver.find_element_by_id(\"site-search\")  \n",
    "# search_field.clear()  \n",
    "# search_field.send_keys(\"Olabode\")  \n",
    "# search_field.send_keys(Keys.RETURN)  \n",
    "# assert \"Looking Back at Android Security in 2016\" in driver.page_source\n",
    "# driver.close()"
   ]
  },
  {
   "cell_type": "code",
   "execution_count": 7,
   "metadata": {},
   "outputs": [],
   "source": [
    "import pandas as pd"
   ]
  },
  {
   "cell_type": "code",
   "execution_count": 10,
   "metadata": {},
   "outputs": [],
   "source": [
    "import time\n",
    "from selenium import webdriver\n",
    "from selenium.webdriver.support.ui import WebDriverWait\n",
    "\n",
    "driver = webdriver.Chrome('./chromedriver')  # Optional argument, if not specified will search path.\n",
    "driver.get('https://dojmt.gov/consumer/consumers-known-data-breach-incidents/#');\n",
    "# search_box = driver.find_element_by_name('q')\n",
    "# search_box.send_keys('ChromeDriver')\n",
    "# search_box.submit()\n",
    "page = driver.page_source\n",
    "button = driver.find_element_by_css_selector(\"#table_1_wrapper > div.dt-buttons > a.dt-button.buttons-csv.buttons-html5.DTTT_button.DTTT_button_csv\")\n",
    "\n",
    "#button varriable is where the driver is supposed to click on the csv link, and download it.\n",
    "#it does download the csv b\n",
    "\n",
    "# button = driver.find_element_by_css_selector(\"table_1_wrapper > div.dt-buttons > a.dt-button.buttons-csv.buttons-html5.DTTT_button.DTTT_button_csv > span\")\n",
    "time.sleep(5)\n",
    "button.click()\n",
    "def every_downloads_chrome(driver):\n",
    "    if not driver.current_url.startswith(\"chrome://downloads\"):\n",
    "        driver.get(\"chrome://downloads/\")\n",
    "    return driver.execute_script(\"\"\"\n",
    "        var items = downloads.Manager.get().items_;\n",
    "        if (items.every(e => e.state === \"COMPLETE\"))\n",
    "            return items.map(e => e.file_url);\n",
    "        \"\"\")\n",
    "\n",
    "\n",
    "# waits for all the files to be completed and returns the paths\n",
    "paths = WebDriverWait(driver, 120, 1).until(every_downloads_chrome)\n",
    "x = paths[0][7:]\n",
    "# time.sleep(100)\n",
    "driver.quit()\n",
    "# print(page)"
   ]
  },
  {
   "cell_type": "code",
   "execution_count": 11,
   "metadata": {},
   "outputs": [
    {
     "name": "stdout",
     "output_type": "stream",
     "text": [
      "/Users/samuelj.karmin/Downloads/Data%20Breach%20Notifications%20(26).csv\n"
     ]
    }
   ],
   "source": [
    "print(x)"
   ]
  },
  {
   "cell_type": "code",
   "execution_count": null,
   "metadata": {},
   "outputs": [],
   "source": [
    "x = x.replace('%20',' ')"
   ]
  },
  {
   "cell_type": "code",
   "execution_count": null,
   "metadata": {},
   "outputs": [],
   "source": [
    "data = pd.read_csv(x)"
   ]
  },
  {
   "cell_type": "code",
   "execution_count": null,
   "metadata": {},
   "outputs": [],
   "source": [
    "data.head(10)"
   ]
  },
  {
   "cell_type": "code",
   "execution_count": null,
   "metadata": {},
   "outputs": [],
   "source": []
  }
 ],
 "metadata": {
  "kernelspec": {
   "display_name": "Python 3",
   "language": "python",
   "name": "python3"
  },
  "language_info": {
   "codemirror_mode": {
    "name": "ipython",
    "version": 3
   },
   "file_extension": ".py",
   "mimetype": "text/x-python",
   "name": "python",
   "nbconvert_exporter": "python",
   "pygments_lexer": "ipython3",
   "version": "3.6.5"
  }
 },
 "nbformat": 4,
 "nbformat_minor": 2
}
