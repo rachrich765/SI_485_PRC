{
 "cells": [
  {
   "cell_type": "code",
   "execution_count": 148,
   "metadata": {},
   "outputs": [],
   "source": [
    "import pandas as pd\n",
    "import requests\n",
    "import textract\n",
    "import os\n",
    "from bs4 import BeautifulSoup\n",
    "import time\n",
    "import csv\n"
   ]
  },
  {
   "cell_type": "code",
   "execution_count": 149,
   "metadata": {},
   "outputs": [],
   "source": [
    "maine = 'https://www.maine.gov/ag/consumer/identity_theft/'\n",
    "code = requests.get(maine)\n",
    "plain = code.text\n",
    "s = BeautifulSoup(plain, \"html.parser\")"
   ]
  },
  {
   "cell_type": "code",
   "execution_count": 150,
   "metadata": {},
   "outputs": [
    {
     "name": "stdout",
     "output_type": "stream",
     "text": [
      "../../docs/Data-Breach-Spreadsheet.xlsx\n"
     ]
    }
   ],
   "source": [
    "year_urls = ''\n",
    "for x in s('ul', {'class':\"plain\"}):\n",
    "    for item in x('a'):\n",
    "#     \tprint(item)   \n",
    "        if item.get('href') == '../../docs/Data-Breach-Spreadsheet.xlsx':\n",
    "            year_urls = item.get('href')\n",
    "print(year_urls)"
   ]
  },
  {
   "cell_type": "code",
   "execution_count": 151,
   "metadata": {},
   "outputs": [],
   "source": [
    "updated_year_urls = 'https://www.maine.gov/ag'"
   ]
  },
  {
   "cell_type": "code",
   "execution_count": 152,
   "metadata": {},
   "outputs": [
    {
     "name": "stdout",
     "output_type": "stream",
     "text": [
      "/docs/Data-Breach-Spreadsheet.xlsx\n"
     ]
    }
   ],
   "source": [
    "year_urls = year_urls[5:]\n",
    "print(year_urls)"
   ]
  },
  {
   "cell_type": "code",
   "execution_count": 153,
   "metadata": {},
   "outputs": [
    {
     "name": "stdout",
     "output_type": "stream",
     "text": [
      "https://www.maine.gov/ag/docs/Data-Breach-Spreadsheet.xlsx\n"
     ]
    }
   ],
   "source": [
    "final_url = updated_year_urls + year_urls\n",
    "print(final_url)"
   ]
  },
  {
   "cell_type": "code",
   "execution_count": 154,
   "metadata": {},
   "outputs": [],
   "source": [
    "resp = requests.get(final_url)\n",
    "output = open('test.xls', 'wb')\n",
    "output.write(resp.content)\n",
    "output.close()"
   ]
  },
  {
   "cell_type": "code",
   "execution_count": 160,
   "metadata": {},
   "outputs": [
    {
     "data": {
      "text/html": [
       "<div>\n",
       "<style scoped>\n",
       "    .dataframe tbody tr th:only-of-type {\n",
       "        vertical-align: middle;\n",
       "    }\n",
       "\n",
       "    .dataframe tbody tr th {\n",
       "        vertical-align: top;\n",
       "    }\n",
       "\n",
       "    .dataframe thead th {\n",
       "        text-align: right;\n",
       "    }\n",
       "</style>\n",
       "<table border=\"1\" class=\"dataframe\">\n",
       "  <thead>\n",
       "    <tr style=\"text-align: right;\">\n",
       "      <th></th>\n",
       "      <th>DATA BREACH NOTICES</th>\n",
       "      <th>Unnamed: 1</th>\n",
       "      <th>Unnamed: 2</th>\n",
       "      <th>Unnamed: 3</th>\n",
       "      <th>Unnamed: 4</th>\n",
       "      <th>Unnamed: 5</th>\n",
       "      <th>Unnamed: 6</th>\n",
       "    </tr>\n",
       "  </thead>\n",
       "  <tbody>\n",
       "    <tr>\n",
       "      <th>0</th>\n",
       "      <td>Company Whose      Data Was Breached</td>\n",
       "      <td>Company Contact Information</td>\n",
       "      <td>Attorney                   (If Represented)</td>\n",
       "      <td>Date of Breach</td>\n",
       "      <td>Date of Notification</td>\n",
       "      <td>Type of Information</td>\n",
       "      <td>Number of Maine Residents Affected</td>\n",
       "    </tr>\n",
       "    <tr>\n",
       "      <th>1</th>\n",
       "      <td>NaN</td>\n",
       "      <td>NaN</td>\n",
       "      <td>NaN</td>\n",
       "      <td>NaN</td>\n",
       "      <td>NaN</td>\n",
       "      <td>NaN</td>\n",
       "      <td>NaN</td>\n",
       "    </tr>\n",
       "    <tr>\n",
       "      <th>2</th>\n",
       "      <td>NaN</td>\n",
       "      <td>NaN</td>\n",
       "      <td>NaN</td>\n",
       "      <td>NaN</td>\n",
       "      <td>NaN</td>\n",
       "      <td>NaN</td>\n",
       "      <td>NaN</td>\n",
       "    </tr>\n",
       "    <tr>\n",
       "      <th>3</th>\n",
       "      <td>NaN</td>\n",
       "      <td>NaN</td>\n",
       "      <td>NaN</td>\n",
       "      <td>NaN</td>\n",
       "      <td>NaN</td>\n",
       "      <td>NaN</td>\n",
       "      <td>NaN</td>\n",
       "    </tr>\n",
       "    <tr>\n",
       "      <th>4</th>\n",
       "      <td>NaN</td>\n",
       "      <td>NaN</td>\n",
       "      <td>NaN</td>\n",
       "      <td>NaN</td>\n",
       "      <td>NaN</td>\n",
       "      <td>NaN</td>\n",
       "      <td>NaN</td>\n",
       "    </tr>\n",
       "    <tr>\n",
       "      <th>5</th>\n",
       "      <td>NaN</td>\n",
       "      <td>NaN</td>\n",
       "      <td>NaN</td>\n",
       "      <td>NaN</td>\n",
       "      <td>NaN</td>\n",
       "      <td>NaN</td>\n",
       "      <td>NaN</td>\n",
       "    </tr>\n",
       "    <tr>\n",
       "      <th>6</th>\n",
       "      <td>Whole Foods Market Group, Inc., 550 Bowie Stre...</td>\n",
       "      <td>None</td>\n",
       "      <td>Craig Hoffman, Partner, Baker Hostetler LLP, 3...</td>\n",
       "      <td>8/3/2018 (discovered 10/2/18)</td>\n",
       "      <td>2018-10-31 00:00:00</td>\n",
       "      <td>Name or other personal identifier in combinati...</td>\n",
       "      <td>3</td>\n",
       "    </tr>\n",
       "    <tr>\n",
       "      <th>7</th>\n",
       "      <td>LJCooper Capital Management, LLC d/b/a LJCoope...</td>\n",
       "      <td>None</td>\n",
       "      <td>R. David Lane, Marshall Dennehey Warner Colema...</td>\n",
       "      <td>2018-09-18 00:00:00</td>\n",
       "      <td>2018-10-29 00:00:00</td>\n",
       "      <td>Name or other personal identifier in combinati...</td>\n",
       "      <td>1</td>\n",
       "    </tr>\n",
       "    <tr>\n",
       "      <th>8</th>\n",
       "      <td>University of Maine, 46 University Drive, Augu...</td>\n",
       "      <td>Nina R. Lavoie, Sr. Associate Counsel, 621-344...</td>\n",
       "      <td>NaN</td>\n",
       "      <td>Discovered 10/23/18</td>\n",
       "      <td>2018-10-27 00:00:00</td>\n",
       "      <td>Personal data including SSN</td>\n",
       "      <td>32</td>\n",
       "    </tr>\n",
       "    <tr>\n",
       "      <th>9</th>\n",
       "      <td>Star Title Partners of Palm Harbor, LLC, 30522...</td>\n",
       "      <td>Anne Cordell, General Manager &amp; Counsel, 813-3...</td>\n",
       "      <td>NaN</td>\n",
       "      <td>2018-06-04 00:00:00</td>\n",
       "      <td>2018-10-26 00:00:00</td>\n",
       "      <td>Name or other personal identifier in combinati...</td>\n",
       "      <td>4</td>\n",
       "    </tr>\n",
       "  </tbody>\n",
       "</table>\n",
       "</div>"
      ],
      "text/plain": [
       "                                 DATA BREACH NOTICES  \\\n",
       "0               Company Whose      Data Was Breached   \n",
       "1                                                NaN   \n",
       "2                                                NaN   \n",
       "3                                                NaN   \n",
       "4                                                NaN   \n",
       "5                                                NaN   \n",
       "6  Whole Foods Market Group, Inc., 550 Bowie Stre...   \n",
       "7  LJCooper Capital Management, LLC d/b/a LJCoope...   \n",
       "8  University of Maine, 46 University Drive, Augu...   \n",
       "9  Star Title Partners of Palm Harbor, LLC, 30522...   \n",
       "\n",
       "                                          Unnamed: 1  \\\n",
       "0                        Company Contact Information   \n",
       "1                                                NaN   \n",
       "2                                                NaN   \n",
       "3                                                NaN   \n",
       "4                                                NaN   \n",
       "5                                                NaN   \n",
       "6                                               None   \n",
       "7                                               None   \n",
       "8  Nina R. Lavoie, Sr. Associate Counsel, 621-344...   \n",
       "9  Anne Cordell, General Manager & Counsel, 813-3...   \n",
       "\n",
       "                                          Unnamed: 2  \\\n",
       "0        Attorney                   (If Represented)   \n",
       "1                                                NaN   \n",
       "2                                                NaN   \n",
       "3                                                NaN   \n",
       "4                                                NaN   \n",
       "5                                                NaN   \n",
       "6  Craig Hoffman, Partner, Baker Hostetler LLP, 3...   \n",
       "7  R. David Lane, Marshall Dennehey Warner Colema...   \n",
       "8                                                NaN   \n",
       "9                                                NaN   \n",
       "\n",
       "                      Unnamed: 3            Unnamed: 4  \\\n",
       "0                 Date of Breach  Date of Notification   \n",
       "1                            NaN                   NaN   \n",
       "2                            NaN                   NaN   \n",
       "3                            NaN                   NaN   \n",
       "4                            NaN                   NaN   \n",
       "5                            NaN                   NaN   \n",
       "6  8/3/2018 (discovered 10/2/18)   2018-10-31 00:00:00   \n",
       "7            2018-09-18 00:00:00   2018-10-29 00:00:00   \n",
       "8            Discovered 10/23/18   2018-10-27 00:00:00   \n",
       "9            2018-06-04 00:00:00   2018-10-26 00:00:00   \n",
       "\n",
       "                                          Unnamed: 5  \\\n",
       "0                                Type of Information   \n",
       "1                                                NaN   \n",
       "2                                                NaN   \n",
       "3                                                NaN   \n",
       "4                                                NaN   \n",
       "5                                                NaN   \n",
       "6  Name or other personal identifier in combinati...   \n",
       "7  Name or other personal identifier in combinati...   \n",
       "8                        Personal data including SSN   \n",
       "9  Name or other personal identifier in combinati...   \n",
       "\n",
       "                           Unnamed: 6  \n",
       "0  Number of Maine Residents Affected  \n",
       "1                                 NaN  \n",
       "2                                 NaN  \n",
       "3                                 NaN  \n",
       "4                                 NaN  \n",
       "5                                 NaN  \n",
       "6                                   3  \n",
       "7                                   1  \n",
       "8                                  32  \n",
       "9                                   4  "
      ]
     },
     "execution_count": 160,
     "metadata": {},
     "output_type": "execute_result"
    }
   ],
   "source": [
    "df = pd.read_excel('test.xls')\n",
    "df.head(10)\n"
   ]
  },
  {
   "cell_type": "code",
   "execution_count": 161,
   "metadata": {},
   "outputs": [
    {
     "data": {
      "text/html": [
       "<div>\n",
       "<style scoped>\n",
       "    .dataframe tbody tr th:only-of-type {\n",
       "        vertical-align: middle;\n",
       "    }\n",
       "\n",
       "    .dataframe tbody tr th {\n",
       "        vertical-align: top;\n",
       "    }\n",
       "\n",
       "    .dataframe thead th {\n",
       "        text-align: right;\n",
       "    }\n",
       "</style>\n",
       "<table border=\"1\" class=\"dataframe\">\n",
       "  <thead>\n",
       "    <tr style=\"text-align: right;\">\n",
       "      <th></th>\n",
       "      <th>Company Whose      Data Was Breached</th>\n",
       "      <th>Company Contact Information</th>\n",
       "      <th>Attorney                   (If Represented)</th>\n",
       "      <th>Date of Breach</th>\n",
       "      <th>Date of Notification</th>\n",
       "      <th>Type of Information</th>\n",
       "      <th>Number of Maine Residents Affected</th>\n",
       "    </tr>\n",
       "  </thead>\n",
       "  <tbody>\n",
       "    <tr>\n",
       "      <th>0</th>\n",
       "      <td>NaN</td>\n",
       "      <td>NaN</td>\n",
       "      <td>NaN</td>\n",
       "      <td>NaN</td>\n",
       "      <td>NaN</td>\n",
       "      <td>NaN</td>\n",
       "      <td>NaN</td>\n",
       "    </tr>\n",
       "    <tr>\n",
       "      <th>1</th>\n",
       "      <td>NaN</td>\n",
       "      <td>NaN</td>\n",
       "      <td>NaN</td>\n",
       "      <td>NaN</td>\n",
       "      <td>NaN</td>\n",
       "      <td>NaN</td>\n",
       "      <td>NaN</td>\n",
       "    </tr>\n",
       "    <tr>\n",
       "      <th>2</th>\n",
       "      <td>NaN</td>\n",
       "      <td>NaN</td>\n",
       "      <td>NaN</td>\n",
       "      <td>NaN</td>\n",
       "      <td>NaN</td>\n",
       "      <td>NaN</td>\n",
       "      <td>NaN</td>\n",
       "    </tr>\n",
       "    <tr>\n",
       "      <th>3</th>\n",
       "      <td>NaN</td>\n",
       "      <td>NaN</td>\n",
       "      <td>NaN</td>\n",
       "      <td>NaN</td>\n",
       "      <td>NaN</td>\n",
       "      <td>NaN</td>\n",
       "      <td>NaN</td>\n",
       "    </tr>\n",
       "    <tr>\n",
       "      <th>4</th>\n",
       "      <td>NaN</td>\n",
       "      <td>NaN</td>\n",
       "      <td>NaN</td>\n",
       "      <td>NaN</td>\n",
       "      <td>NaN</td>\n",
       "      <td>NaN</td>\n",
       "      <td>NaN</td>\n",
       "    </tr>\n",
       "  </tbody>\n",
       "</table>\n",
       "</div>"
      ],
      "text/plain": [
       "0 Company Whose      Data Was Breached Company Contact Information  \\\n",
       "0                                  NaN                         NaN   \n",
       "1                                  NaN                         NaN   \n",
       "2                                  NaN                         NaN   \n",
       "3                                  NaN                         NaN   \n",
       "4                                  NaN                         NaN   \n",
       "\n",
       "0 Attorney                   (If Represented) Date of Breach  \\\n",
       "0                                         NaN            NaN   \n",
       "1                                         NaN            NaN   \n",
       "2                                         NaN            NaN   \n",
       "3                                         NaN            NaN   \n",
       "4                                         NaN            NaN   \n",
       "\n",
       "0 Date of Notification Type of Information Number of Maine Residents Affected  \n",
       "0                  NaN                 NaN                                NaN  \n",
       "1                  NaN                 NaN                                NaN  \n",
       "2                  NaN                 NaN                                NaN  \n",
       "3                  NaN                 NaN                                NaN  \n",
       "4                  NaN                 NaN                                NaN  "
      ]
     },
     "execution_count": 161,
     "metadata": {},
     "output_type": "execute_result"
    }
   ],
   "source": [
    "headers = df.iloc[0]\n",
    "new_df  = pd.DataFrame(df.values[1:], columns=headers)\n",
    "new_df.head()"
   ]
  },
  {
   "cell_type": "code",
   "execution_count": 162,
   "metadata": {},
   "outputs": [],
   "source": [
    "# new_df.columns = [c.replace(' ', '_') for c in new_df.columns]\n",
    "new_df.columns = [c.replace(' ', '_') for c in new_df.columns]\n",
    "\n"
   ]
  },
  {
   "cell_type": "code",
   "execution_count": 165,
   "metadata": {},
   "outputs": [
    {
     "data": {
      "text/plain": [
       "Index(['Company_Whose______Data_Was_Breached', 'Company_Contact_Information',\n",
       "       'Attorney___________________(If_Represented)', 'Date_of_Breach',\n",
       "       'Date_of_Notification', 'Type_of_Information',\n",
       "       'Number_of_Maine_Residents_Affected'],\n",
       "      dtype='object')"
      ]
     },
     "execution_count": 165,
     "metadata": {},
     "output_type": "execute_result"
    }
   ],
   "source": [
    "new_df.columns"
   ]
  },
  {
   "cell_type": "code",
   "execution_count": null,
   "metadata": {},
   "outputs": [],
   "source": []
  },
  {
   "cell_type": "code",
   "execution_count": null,
   "metadata": {},
   "outputs": [],
   "source": []
  },
  {
   "cell_type": "code",
   "execution_count": 119,
   "metadata": {},
   "outputs": [],
   "source": []
  },
  {
   "cell_type": "code",
   "execution_count": null,
   "metadata": {},
   "outputs": [],
   "source": []
  },
  {
   "cell_type": "code",
   "execution_count": null,
   "metadata": {},
   "outputs": [],
   "source": []
  }
 ],
 "metadata": {
  "kernelspec": {
   "display_name": "Python 3",
   "language": "python",
   "name": "python3"
  },
  "language_info": {
   "codemirror_mode": {
    "name": "ipython",
    "version": 3
   },
   "file_extension": ".py",
   "mimetype": "text/x-python",
   "name": "python",
   "nbconvert_exporter": "python",
   "pygments_lexer": "ipython3",
   "version": "3.6.5"
  }
 },
 "nbformat": 4,
 "nbformat_minor": 2
}
