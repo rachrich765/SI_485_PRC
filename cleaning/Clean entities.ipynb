{
 "cells": [
  {
   "cell_type": "code",
   "execution_count": 21,
   "metadata": {
    "collapsed": true
   },
   "outputs": [],
   "source": [
    "import pandas as pd\n",
    "import string\n",
    "import re"
   ]
  },
  {
   "cell_type": "markdown",
   "metadata": {
    "collapsed": true
   },
   "source": [
    "import the final csv"
   ]
  },
  {
   "cell_type": "code",
   "execution_count": 70,
   "metadata": {
    "collapsed": false
   },
   "outputs": [],
   "source": [
    "df_master = pd.DataFrame.from_csv(\"data_breach_chronology_big.csv\")"
   ]
  },
  {
   "cell_type": "markdown",
   "metadata": {},
   "source": [
    "processing the csv"
   ]
  },
  {
   "cell_type": "markdown",
   "metadata": {},
   "source": [
    "getting column, dropping na"
   ]
  },
  {
   "cell_type": "code",
   "execution_count": 112,
   "metadata": {
    "collapsed": false,
    "scrolled": true
   },
   "outputs": [
    {
     "data": {
      "text/plain": [
       "7639"
      ]
     },
     "execution_count": 112,
     "metadata": {},
     "output_type": "execute_result"
    }
   ],
   "source": [
    "entities = list(df_master[\"Name of Entity\"].fillna(\"[None Named]\"))\n",
    "len(entities)"
   ]
  },
  {
   "cell_type": "markdown",
   "metadata": {},
   "source": [
    "cleaning"
   ]
  },
  {
   "cell_type": "code",
   "execution_count": 113,
   "metadata": {
    "collapsed": false
   },
   "outputs": [],
   "source": [
    "low_ents = [x.lower() for x in entities] #make all lowercase\n",
    "low_ents = [re.sub(\"-databreach\",\"\",x) for x in low_ents] #removes -databreach string at end\n",
    "low_ents = [re.sub(\"-securitybreach\",\"\",x) for x in low_ents] #removes -securitybreach string at end\n",
    "low_ents = [re.sub(\"-data breach\",\"\",x) for x in low_ents] #removes -data breach string at end\n",
    "low_ents = [re.sub(\"data breach\",\"\",x) for x in low_ents] #removes data breach string at end\n",
    "low_ents = [re.sub(\"-breach notification\",\"\",x) for x in low_ents] #removes -breach notification string at end\n",
    "low_ents = [re.sub(\"^[0-9-]*\",\"\",x) for x in low_ents] #removes dates at start of string\n",
    "low_ents = [re.sub(\",\\s{0,}[0-9].*[a-z]{2}\\s{1,}[0-9]{5}\",\"\",x) for x in low_ents] #removes addresses\n",
    "low_ents = [re.sub(\";\\s{0,}[0-9].*[a-z]{2}\\s{1,}[0-9]{5}\",\"\",x) for x in low_ents] #removes addresses\n",
    "low_ents = [re.sub(\"\\s{0,}p.o. box\\s[0-9].*[a-z]{2}\\s{1,}[0-9]{5}\",\"\",x) for x in low_ents] #removes addresses\n",
    "# low_ents = [re.sub(\"\\s{0,}po box\\s[0-9].*[a-z]{2}\\s{1,}[0-9]{5}\",\"\",x) for x in low_ents] #removes addresses\n",
    "\n",
    "# for debugging / to check you got rid of most addresses\n",
    "# for x in low_ents:\n",
    "#     if '1' in x:\n",
    "#         print(x)\n"
   ]
  },
  {
   "cell_type": "markdown",
   "metadata": {},
   "source": [
    "handling duplicates"
   ]
  },
  {
   "cell_type": "code",
   "execution_count": 114,
   "metadata": {
    "collapsed": false
   },
   "outputs": [
    {
     "name": "stdout",
     "output_type": "stream",
     "text": [
      "4107\n"
     ]
    }
   ],
   "source": [
    "no_space_punc = {}\n",
    "for entity in low_ents:\n",
    "    ent = re.sub(\"[\\s]\",\"\",entity) #remove spaces\n",
    "    ent = re.sub(\"[^A-z0-9]\",\"\",entity) #remove punctuation\n",
    "    no_space_punc[entity] = ent\n",
    "no_space_punc_reversed = inv_map = [(v, k) for k, v in no_space_punc.items()]\n",
    "print(len(no_space_punc_reversed))\n",
    "\n",
    "#making a list of duplicates\n",
    "dups = []\n",
    "simp = [x[0] for x in no_space_punc_reversed]\n",
    "for entity in simp:\n",
    "    if [x[0] for x in no_space_punc_reversed].count(entity)>1:\n",
    "        dups.append(entity)\n"
   ]
  },
  {
   "cell_type": "code",
   "execution_count": 115,
   "metadata": {
    "collapsed": false
   },
   "outputs": [],
   "source": [
    "del_list = []\n",
    "for dup in dups:\n",
    "    indices = sorted([i for i, x in enumerate(simp) if x == dup])\n",
    "    del_list.extend(indices[1:])\n",
    "indices = list(set(sorted(del_list)))\n",
    "for i in sorted(indices, reverse=True):\n",
    "    del no_space_punc_reversed [i]"
   ]
  },
  {
   "cell_type": "code",
   "execution_count": 116,
   "metadata": {
    "collapsed": false
   },
   "outputs": [],
   "source": [
    "final_dict = dict(no_space_punc_reversed)\n",
    "clean_ents = []\n",
    "for entity in low_ents:\n",
    "    ent = re.sub(\"[\\s]\",\"\",entity) #remove spaces\n",
    "    ent = re.sub(\"[^A-z0-9]\",\"\",entity) #remove punctuation\n",
    "    clean_ents.append(final_dict[ent])"
   ]
  },
  {
   "cell_type": "code",
   "execution_count": 119,
   "metadata": {
    "collapsed": false
   },
   "outputs": [],
   "source": [
    "df_master[\"Name of Entity\"] = clean_ents"
   ]
  },
  {
   "cell_type": "code",
   "execution_count": null,
   "metadata": {
    "collapsed": true
   },
   "outputs": [],
   "source": []
  },
  {
   "cell_type": "markdown",
   "metadata": {},
   "source": []
  }
 ],
 "metadata": {
  "anaconda-cloud": {},
  "kernelspec": {
   "display_name": "Python [conda env:Anaconda3]",
   "language": "python",
   "name": "conda-env-Anaconda3-py"
  },
  "language_info": {
   "codemirror_mode": {
    "name": "ipython",
    "version": 3
   },
   "file_extension": ".py",
   "mimetype": "text/x-python",
   "name": "python",
   "nbconvert_exporter": "python",
   "pygments_lexer": "ipython3",
   "version": "3.5.6"
  }
 },
 "nbformat": 4,
 "nbformat_minor": 1
}
