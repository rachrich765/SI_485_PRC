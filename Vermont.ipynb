{
 "cells": [
  {
   "cell_type": "code",
   "execution_count": 4,
   "metadata": {},
   "outputs": [],
   "source": [
    "import requests\n",
    "import textract\n",
    "import os\n",
    "from bs4 import BeautifulSoup"
   ]
  },
  {
   "cell_type": "code",
   "execution_count": null,
   "metadata": {},
   "outputs": [],
   "source": []
  },
  {
   "cell_type": "code",
   "execution_count": 5,
   "metadata": {},
   "outputs": [],
   "source": [
    "url = 'https://ago.vermont.gov/archived-security-breaches/'\n",
    "code = requests.get(url)\n",
    "plain = code.text\n",
    "s = BeautifulSoup(plain, \"html.parser\")"
   ]
  },
  {
   "cell_type": "code",
   "execution_count": 6,
   "metadata": {},
   "outputs": [],
   "source": [
    "year_urls= []\n",
    "for x in s('li', {'class':\"awDatesLI\"}):\n",
    "    for item in x('a'):\n",
    "        year_urls.append(item.get('href'))"
   ]
  },
  {
   "cell_type": "code",
   "execution_count": 68,
   "metadata": {},
   "outputs": [
    {
     "name": "stderr",
     "output_type": "stream",
     "text": [
      "IOPub data rate exceeded.\n",
      "The notebook server will temporarily stop sending output\n",
      "to the client in order to avoid crashing it.\n",
      "To change this limit, set the config variable\n",
      "`--NotebookApp.iopub_data_rate_limit`.\n",
      "\n",
      "Current values:\n",
      "NotebookApp.iopub_data_rate_limit=1000000.0 (bytes/sec)\n",
      "NotebookApp.rate_limit_window=3.0 (secs)\n",
      "\n"
     ]
    }
   ],
   "source": [
    "import time\n",
    "start_time = time.time()\n",
    "\n",
    "vermont_dict = {}\n",
    "\n",
    "for year in year_urls:\n",
    "    vermont_dict[year[-4:]] = {}\n",
    "    breaches = []\n",
    "    code = requests.get(year)\n",
    "    plain = code.text\n",
    "    s = BeautifulSoup(plain, \"html.parser\")\n",
    "\n",
    "    for x in s('div', {'id':\"postWrapper\"}):\n",
    "        for item in x('a'):\n",
    "            breaches.append((item('h3',{'class':'awyca_subheader'})[0].text,item.get('href')))\n",
    "\n",
    "    for breach in breaches:\n",
    "        code = requests.get(breach[1])\n",
    "        plain = code.text\n",
    "        s = BeautifulSoup(plain, \"html.parser\")\n",
    "        base_url = 'https://ago.vermont.gov'\n",
    "        pdf_extension = s('a',{'class':\"pdfemb-viewer\"})[0].get('href')\n",
    "        total_url = base_url + pdf_extension\n",
    "        \n",
    "        response = requests.get(total_url)\n",
    "        my_raw_data = response.content\n",
    "\n",
    "        with open(\"new_pdf.pdf\", 'wb') as my_data:\n",
    "            my_data.write(my_raw_data)\n",
    "        my_data.close()\n",
    "        \n",
    "        file = textract.process('new_pdf.pdf')\n",
    "        \n",
    "        vermont_dict[year[-4:]][breach[0]] = file\n",
    "        os.remove(\"new_pdf.pdf\")\n",
    "print(\"--- %s seconds ---\" % (time.time() - start_time))        \n",
    "print (vermont_dict)"
   ]
  },
  {
   "cell_type": "code",
   "execution_count": 8,
   "metadata": {},
   "outputs": [],
   "source": []
  },
  {
   "cell_type": "code",
   "execution_count": 74,
   "metadata": {},
   "outputs": [
    {
     "data": {
      "text/plain": [
       "'2017'"
      ]
     },
     "execution_count": 74,
     "metadata": {},
     "output_type": "execute_result"
    }
   ],
   "source": []
  },
  {
   "cell_type": "code",
   "execution_count": 57,
   "metadata": {},
   "outputs": [],
   "source": [
    "breach1= breaches[0]\n",
    "code = requests.get(breach1)\n",
    "plain = code.text\n",
    "s = BeautifulSoup(plain, \"html.parser\")"
   ]
  },
  {
   "cell_type": "code",
   "execution_count": 58,
   "metadata": {},
   "outputs": [],
   "source": [
    "#s"
   ]
  },
  {
   "cell_type": "code",
   "execution_count": 62,
   "metadata": {},
   "outputs": [],
   "source": [
    "base_url = 'https://ago.vermont.gov'\n",
    "pdf_extension = s('a',{'class':\"pdfemb-viewer\"})[0].get('href')\n",
    "total_url = base_url + pdf_extension"
   ]
  },
  {
   "cell_type": "code",
   "execution_count": null,
   "metadata": {},
   "outputs": [],
   "source": []
  },
  {
   "cell_type": "code",
   "execution_count": null,
   "metadata": {},
   "outputs": [],
   "source": []
  },
  {
   "cell_type": "code",
   "execution_count": null,
   "metadata": {},
   "outputs": [],
   "source": []
  },
  {
   "cell_type": "code",
   "execution_count": 65,
   "metadata": {},
   "outputs": [],
   "source": [
    "import os\n",
    "os.remove(\"new_pdf.pdf\")"
   ]
  },
  {
   "cell_type": "code",
   "execution_count": 61,
   "metadata": {},
   "outputs": [],
   "source": [
    "import requests\n",
    "response = requests.get(total_url)\n",
    "my_raw_data = response.content\n",
    "\n",
    "with open(\"new_pdf.pdf\", 'wb') as my_data:\n",
    "    my_data.write(my_raw_data)\n",
    "my_data.close()\n"
   ]
  },
  {
   "cell_type": "code",
   "execution_count": 63,
   "metadata": {},
   "outputs": [
    {
     "data": {
      "text/plain": [
       "b'<<Company Letterhead>>\\nReturn Mail Processing Center\\nP.O. Box 6336\\nPortland, OR 97228-6336\\n\\n<<Mail ID>>\\n<<Name 1>>\\n<<Name 2>>\\n<<Address 1>>\\n<<Address 2>>\\n<<Address 3>>\\n<<Address 4>> \\n<<Address 5>>\\n<<City>><<State>><<Zip>>\\n<<Country>>\\n\\n<<Date>>\\n\\nRE: Notice of Data Breach\\nDear <<Name 1>>:\\n<<Company>> is writing to notify you of an incident that may affect the security of your personal information.  We \\nare providing you with information regarding the incident, steps we have taken since discovering the incident, and \\nwhat you can do to protect your personal information should you feel it is appropriate to do so. \\nWhat Happened?  On September 14, 2018, we became aware of unusual activity in an employee\\xe2\\x80\\x99s email account.  We \\nimmediately launched an internal investigation into the unusual activity. With the assistance of computer forensics \\nexperts, we learned <<Company>> was the victim of an email phishing incident which resulted in unauthorized access \\nto a number of employees\\xe2\\x80\\x99 email accounts between June 7, 2018 and September 24, 2018.  After determining there \\nwas unauthorized access, we undertook a lengthy and labor-intensive process to identify the personal information \\ncontained within the affected email accounts.  On November 28, 2018, our investigation confirmed the identity of \\nthe individuals whose personal information was affected.  Based on available forensic evidence, an email containing \\nyour personal information was potentially subject to unauthorized access.  Although we are unaware of any actual \\nor attempted misuse of your personal information, we are notifying you in an abundance of caution because your \\ninformation was present in the impacted email accounts.\\nWhat Information Was Involved?  We cannot confirm if your information was actually accessed by the unauthorized \\nindividual.  However, our investigation confirmed the information present in the impacted email accounts includes \\nyour name, <<Data Elements>>. \\nWhat We Are Doing. Information privacy and security are among our highest priorities. We have strict security \\nmeasures in place to protect information in our care. Upon learning of this incident, we quickly took steps to confirm \\nthe  security  of  our  systems,  including  our  employee  email  accounts.  We  reset  passwords  for  the  affected  email \\naccounts, implemented increased security measures for email account access, conducted additional employee training, \\nand are currently reviewing our policies and procedures relating to data security. In an abundance of caution, we are \\nalso notifying potentially affected individuals, including you, so that you may take further steps to best protect your \\npersonal information, should you feel it is appropriate to do so. \\nAlthough we are not aware of any actual or attempted misuse of information as a result of this event, as a safeguard, \\nwe have arranged for you to enroll, at no cost to you, in an online credit monitoring service (myTrueIdentity) for \\n<<Credit Monitoring Months>> months provided by TransUnion Interactive, a subsidiary of TransUnion\\xc2\\xae, one of the \\nthree nationwide credit reporting companies.\\n\\nW6411 v.05 12.26.2018\\n\\n\\x0cHow to Enroll: You can sign up online or via U.S. Mail delivery\\n\\n\\xe2\\x80\\xa2 \\n\\n\\xe2\\x80\\xa2  To enroll in this service, go to the myTrueIdentity website at www.MyTrueIdentity.com and, in the space \\nreferenced  as  \\xe2\\x80\\x9cEnter  Activation  Code,\\xe2\\x80\\x9d  enter  the  12-letter  Activation  Code  <<Insert  Unique  12-letter \\nActivation  Code>>  and  follow  the  three  steps  to  receive  your  credit  monitoring  service  online  within \\nminutes.\\nIf you do not have access to the Internet and wish to enroll in a similar offline, paper-based credit monitoring \\nservice,  via  U.S.  Mail  delivery,  please  call  the  TransUnion  Fraud  Response  Services  toll-free  hotline  at  \\n1-855-288-5422. When prompted, enter the six-digit telephone passcode <<Insert static 6-digit Telephone \\nPass Code>> and follow the steps to enroll in the offline credit monitoring service, add an initial fraud alert \\nto your credit file, or to speak to a TransUnion representative if you believe you may be a victim of identity \\ntheft.\\n\\nYou  can  sign  up  for  the  online  or  offline  credit  monitoring  service  anytime  between  now  and  <<Enrollment \\nDeadline>>. Due to privacy laws, we cannot register you directly. Please note that credit monitoring services might \\nnot be available for individuals who do not have a credit file with TransUnion or an address in the United States (or \\nits territories) and a valid Social Security number. Enrolling in this service will not affect your credit score.\\nADDITIONAL  DETAILS  REGARDING  YOUR \\nCOMPLIMENTARY CREDIT MONITORING SERVICE:\\n\\n<<Credit  Monitoring  Months>>-MONTH \\n\\n\\xe2\\x80\\xa2  Once you are enrolled, you will be able to obtain one year of unlimited access to your TransUnion credit \\nreport and credit score.\\n\\xe2\\x80\\xa2  The daily credit monitoring service will notify you if there are any critical changes to your credit file at \\nTransUnion, including fraud alerts, new inquiries, new accounts, new public records, late payments, changes \\nof address, and more.\\n\\nThe service also includes access to an identity restoration program that provides assistance in the event that your \\nidentity is compromised and up to $1,000,000 in identity theft insurance with no deductible. (Policy limitations and \\nexclusions may apply.)\\nWhat You Can Do. You may review the information contained in the attached \\xe2\\x80\\x9cSteps You Can Take to Protect \\nAgainst Identity Theft and Fraud.\\xe2\\x80\\x9d You may also enroll to receive the identity protection services we are making \\navailable to you. We will cover the cost of this service; however, you will need to enroll yourself in this service. \\nInstructions on how to enroll and receive the complimentary monitoring and restoration services are above.\\nFor More Information. We understand that you may have questions about this incident that are not addressed in this \\nletter.  If so, you may contact our call center at 877-845-7486, which is available Monday through Friday from 9 A.M. \\nto 9 P.M. Eastern Time.\\nWe sincerely regret the inconvenience this incident causes for you. <<Company>> remains committed to safeguarding \\ninformation in our care and will continue to take proactive steps to enhance data security.\\n\\nSincerely, \\n\\nGregory Moundas\\nVice President\\n<<Company>>\\nEnclosure \\n\\nW6412 v.05 12.26.2018\\n\\n\\x0cSteps You Can Take to Protect Against Identity Theft and Fraud\\n\\nWe  encourage  you  to  remain  vigilant  against  incidents  of  identity  theft  and  fraud,  to  review  your  account \\nstatements, and to monitor your credit reports for suspicious activity.  Under U.S. law you are entitled to one free \\ncredit report annually from each of the three major credit reporting bureaus.  To order your free credit report, visit  \\nwww.annualcreditreport.com or call, toll-free, 1-877-322-8228.  You may also contact the three major credit bureaus \\ndirectly to request a free copy of your credit report.\\nYou have the right to place a \\xe2\\x80\\x9csecurity freeze\\xe2\\x80\\x9d on your credit report, which will prohibit a consumer reporting agency \\nfrom releasing information in your credit report without your express authorization.  The security freeze is designed \\nto prevent credit, loans, and services from being approved in your name without your consent.  However, you should \\nbe aware that using a security freeze to take control over who gets access to the personal and financial information in \\nyour credit report may delay, interfere with, or prohibit the timely approval of any subsequent request or application \\nyou make regarding a new loan, credit, mortgage, or any other account involving the extension of credit.  Pursuant to \\nfederal law, you cannot be charged to place or lift a security freeze on your credit report.  Should you wish to place \\na security freeze, please contact the major consumer reporting agencies listed below:\\n\\nExperian\\nPO Box 9554\\nAllen, TX 75013\\n1-888-397-3742\\n\\nhtml\\n\\nwww.experian.com/freeze/center.\\n\\nTransUnion\\nP.O. Box 2000\\nChester, PA 19016\\n1-888-909-8872\\n\\nwww.transunion.com/credit-freeze\\n\\nAtlanta, GA 30348-5788\\n\\nEquifax\\n\\nPO Box 105788\\n1-800-685-1111\\nreport-services\\n\\nwww.equifax.com/personal/credit-\\n\\nIn order to request a security freeze, you will need to provide the following information:\\n\\nyears;\\n\\n1.  Your full name (including middle initial as well as Jr., Sr., II, III, etc.);\\n2.  Social Security number;\\n3.  Date of birth;\\n4.  If you have moved in the past five (5) years, provide the addresses where you have lived over the prior five \\n5.  Proof of current address, such as a current utility bill or telephone bill;\\n6.  A legible photocopy of a government-issued identification card (state driver\\xe2\\x80\\x99s license or ID card, military \\nidentification, etc.); \\nIf you are a victim of identity theft, include a copy of either the police report, investigative report, or complaint \\n7. \\nto a law enforcement agency concerning identity theft.\\n\\nAs an alternative to a security freeze, you have the right to place an initial or extended \\xe2\\x80\\x9cfraud alert\\xe2\\x80\\x9d on your file at no \\ncost.  An initial fraud alert is a 1-year alert that is placed on a consumer\\xe2\\x80\\x99s credit file.  Upon seeing a fraud alert display \\non a consumer\\xe2\\x80\\x99s credit file, a business is required to take steps to verify the consumer\\xe2\\x80\\x99s identity before extending new \\ncredit.  If you are a victim of identity theft, you are entitled to an extended fraud alert, which is a fraud alert lasting \\nseven years.  Should you wish to place a fraud alert, please contact any one of the agencies listed below:\\n\\nExperian\\n\\nP.O. Box 2002\\nAllen, TX 75013\\n1-888-397-3742\\n\\nwww.experian.com/fraud/center.\\n\\nhtml\\n\\nTransUnion\\nP.O. Box 2000\\nChester, PA 19106\\n1-800-680-7289\\n\\nwww.transunion.com/fraud-victim-\\n\\nresource/place-fraud-alert\\n\\nEquifax\\n\\nP.O. Box 105069\\nAtlanta, GA 30348\\n1-888-766-0008\\nreport-services\\n\\nwww.equifax.com/personal/credit-\\n\\nAlthough we have no reason to believe that your personal information has been used to file fraudulent tax returns, \\nyou can contact the IRS at www.irs.gov/Individuals/Identity-Protection for helpful information and guidance on \\nsteps you can take to address a fraudulent tax return filed in your name and what to do if you become the victim of \\nsuch fraud.  You can also visit www.irs.gov/uac/Taxpayer-Guide-to-Identity-Theft for more information. \\nYou can further educate yourself regarding identity theft, fraud alerts, security freezes, and the steps you can take \\nto protect yourself, by contacting the consumer reporting agencies, the Federal Trade Commission, or your state \\nAttorney General. \\n\\nW6413 v.05 12.26.2018\\n\\n\\x0cThe  Federal  Trade  Commission  can  be  reached  at:  600  Pennsylvania  Avenue  NW,  Washington,  DC  20580,  \\nwww.identitytheft.gov, 1-877-ID-THEFT (1-877-438-4338); TTY: 1-866-653-4261. The Federal Trade Commission \\nalso encourages those who discover that their information has been misused to file a complaint with them. You can \\nobtain further information on how to file such a complaint by way of the contact information listed above. You have \\nthe right to file a police report if you ever experience identity theft or fraud.  Please note that in order to file a report \\nwith law enforcement for identity theft, you will likely need to provide some proof that you have been a victim.  \\nInstances of known or suspected identity theft should also be reported to law enforcement and your state Attorney \\nGeneral.  This notice has not been delayed by law enforcement.      \\nFor North Carolina residents, the Attorney General can be contacted at 9001 Mail Service Center, Raleigh, NC \\n27699-9001, 1-877-566-7226 or 1-919-716-6400, www.ncdoj.gov. \\nFor Maryland residents, the Attorney General can be contacted at 200 St. Paul Place, 16th Floor, Baltimore, MD \\n21202, 1-888-743-0023, www.oag.state.md.us. \\nFor  New  Mexico  residents,  you  have  rights  pursuant  to  the  Fair  Credit  Reporting  Act,  such  as  the  right  to  be \\ntold if information in your credit file has been used against you, the right to know what is in your credit file, the \\nright to ask for your credit score, and the right to dispute incomplete or inaccurate information. Further, pursuant \\nto the Fair Credit Reporting Act, the consumer reporting agencies must correct or delete inaccurate, incomplete, \\nor  unverifiable  information;  consumer  reporting  agencies  may  not  report  outdated  negative  information;  access \\nto your file is limited; you must give your consent for credit reports to be provided to employers; you may limit \\n\\xe2\\x80\\x9cprescreened\\xe2\\x80\\x9d offers of credit and insurance you get based on information in your credit report; and you may seek \\ndamages from violator. You may have additional rights under the Fair Credit Reporting Act not summarized here. \\nIdentity theft victims and active duty military personnel have specific additional rights pursuant to the Fair Credit \\nReporting  Act.    We  encourage  you  to  review  your  rights  pursuant  to  the  Fair  Credit  Reporting  Act  by  visiting  \\nwww.consumerfinance.gov/f/201504_cfpb_summary_your-rights-under-fcra.pdf, or by writing Consumer Response \\nCenter, Room 130-A, Federal Trade Commission, 600 Pennsylvania Ave. N.W., Washington, D.C. 20580. \\nFor  Rhode  Island  Residents:  The  Rhode  Island  Attorney  General  can  be  reached  at:  150  South  Main  Street, \\nProvidence,  Rhode  Island  02903,  www.riag.ri.gov,  1-401-247-4400.  Under  Rhode  Island  law,  you  have  the  right \\nto obtain any police report filed in regard to this incident.  There are 153 Rhode Island residents impacted by this \\nincident.  \\n\\nW6414 v.05 12.26.2018\\n\\n\\x0c'"
      ]
     },
     "execution_count": 63,
     "metadata": {},
     "output_type": "execute_result"
    }
   ],
   "source": [
    "\n",
    "file = textract.process('new_pdf.pdf')\n",
    "\n",
    "os.remove(\"my_pdf.pdf\")"
   ]
  },
  {
   "cell_type": "code",
   "execution_count": 92,
   "metadata": {},
   "outputs": [
    {
     "data": {
      "text/plain": [
       "[('The Valerie Fund SBN to Consumers',\n",
       "  'https://ago.vermont.gov/blog/2017/12/20/valerie-fund-sbn-consumers/'),\n",
       " ('Board of Pensions of the Presbyterian Church-USA SBN to Consumers',\n",
       "  'https://ago.vermont.gov/blog/2017/12/15/board-pensions-presbyterian-church-usa-sbn-consumers/'),\n",
       " ('Florida Power and Light – TIO Networks USA SBN to Consumers',\n",
       "  'https://ago.vermont.gov/blog/2017/12/14/florida-power-light-tio-networks-usa-sbn-consumers/'),\n",
       " ('IH Mississippi Valley Credit Union SBN to Consumers',\n",
       "  'https://ago.vermont.gov/blog/2017/12/13/ih-mississippi-valley-credit-union-sbn-consumers/'),\n",
       " ('Pacific Gas and Electric SBN to Consumers',\n",
       "  'https://ago.vermont.gov/blog/2017/12/13/pacific-gas-electric-sbn-consumers/'),\n",
       " ('The Whitehall Hotel SBN to Consumers',\n",
       "  'https://ago.vermont.gov/blog/2017/12/07/whitehall-hotel-sbn-consumers/'),\n",
       " ('AHS DVHA VHC SBN to Consumers',\n",
       "  'https://ago.vermont.gov/blog/2017/12/04/ahs-dvha-vhc-sbn-consumers/'),\n",
       " ('JAM Paper & Envelope SBN to Consumers',\n",
       "  'https://ago.vermont.gov/blog/2017/12/01/jam-paper-envelope-sbn-consumers/'),\n",
       " ('Grass Advantage LLC SBN to Consumers\\xa0',\n",
       "  'https://ago.vermont.gov/blog/2017/11/30/grass-advantage-llc-sbn-consumers/'),\n",
       " ('Combat Brands LLC SBN to Consumers',\n",
       "  'https://ago.vermont.gov/blog/2017/11/29/combat-brands-llc-sbn-consumers/'),\n",
       " ('Bulletproof 360 Inc SBN to Consumers',\n",
       "  'https://ago.vermont.gov/blog/2017/11/27/bulletproof-360-inc-sbn-consumers/'),\n",
       " ('SallieMae SBN to Consumers',\n",
       "  'https://ago.vermont.gov/blog/2017/11/22/salliemae-sbn-consumers/'),\n",
       " ('Uber SBN to Consumers',\n",
       "  'https://ago.vermont.gov/blog/2017/11/22/uber-sbn-consumers/'),\n",
       " ('Baylor College of Medicine SBN to Consumers',\n",
       "  'https://ago.vermont.gov/blog/2017/11/21/baylor-college-medicine-sbn-consumers/'),\n",
       " ('JRK Hotel Group Consumer Notice Letter to Consumers',\n",
       "  'https://ago.vermont.gov/blog/2017/11/17/jrk-hotel-group-consumer-notice-letter-consumers/'),\n",
       " ('Saris Cycling Group SBN to Consumers',\n",
       "  'https://ago.vermont.gov/blog/2017/11/15/saris-cycling-group-sbn-consumers/'),\n",
       " ('Gallagher NAC SBN to Consumers',\n",
       "  'https://ago.vermont.gov/blog/2017/11/14/gallagher-nac-sbn-consumers/'),\n",
       " ('ABM Industries Inc SBN to Consumers',\n",
       "  'https://ago.vermont.gov/blog/2017/11/14/abm-industries-inc-sbn-consumers/'),\n",
       " ('Intuit Turbo Tax SBN to Consumers',\n",
       "  'https://ago.vermont.gov/blog/2017/11/13/intuit-turbo-tax-sbn-consumers/'),\n",
       " ('InTouch Credit Union SBN to Consumers',\n",
       "  'https://ago.vermont.gov/blog/2017/11/08/intouch-credit-union-sbn-consumers/'),\n",
       " ('Wilbraham, Lawler & Buba P.C. SBN to Consumers',\n",
       "  'https://ago.vermont.gov/blog/2017/11/06/wilbraham-lawler-buba-p-c-sbn-consumers/'),\n",
       " ('Agency of Human Services-DCF-ESD Notice of Data Breach to Consumers',\n",
       "  'https://ago.vermont.gov/blog/2017/10/23/agency-of-human-services-dcf-esd-notice-of-data-breach-to-consumers/'),\n",
       " ('Peoples United Bank SBN to Consumers',\n",
       "  'https://ago.vermont.gov/blog/2017/02/16/peoples-united-bank-sbn-to-consumers/')]"
      ]
     },
     "execution_count": 92,
     "metadata": {},
     "output_type": "execute_result"
    }
   ],
   "source": [
    "for year in year_urls:\n",
    "    vermont_dict[year[-4:]] = []\n",
    "    breaches = []\n",
    "    code = requests.get(year)\n",
    "    plain = code.text\n",
    "    s = BeautifulSoup(plain, \"html.parser\")\n",
    "\n",
    "    for x in s('div', {'id':\"postWrapper\"}):\n",
    "        for item in x('a'):\n",
    "            #print(item, 'THATSONE') \n",
    "            breaches.append((item('h3',{'class':'awyca_subheader'})[0].text,item.get('href')))\n",
    "breaches"
   ]
  },
  {
   "cell_type": "code",
   "execution_count": null,
   "metadata": {},
   "outputs": [],
   "source": []
  }
 ],
 "metadata": {
  "kernelspec": {
   "display_name": "Python 3",
   "language": "python",
   "name": "python3"
  },
  "language_info": {
   "codemirror_mode": {
    "name": "ipython",
    "version": 3
   },
   "file_extension": ".py",
   "mimetype": "text/x-python",
   "name": "python",
   "nbconvert_exporter": "python",
   "pygments_lexer": "ipython3",
   "version": "3.7.1"
  }
 },
 "nbformat": 4,
 "nbformat_minor": 2
}
