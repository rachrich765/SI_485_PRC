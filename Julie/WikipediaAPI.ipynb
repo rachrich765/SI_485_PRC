{
 "cells": [
  {
   "cell_type": "markdown",
   "metadata": {},
   "source": [
    "## Option 1: Wikipedia - can get summary or entire page (but not the sidebar information)"
   ]
  },
  {
   "cell_type": "code",
   "execution_count": 1,
   "metadata": {},
   "outputs": [],
   "source": [
    "import wikipedia"
   ]
  },
  {
   "cell_type": "code",
   "execution_count": 2,
   "metadata": {},
   "outputs": [
    {
     "data": {
      "text/plain": [
       "'Qualtrics is a privately held experience management company, with co-headquarters in Provo, Utah and Seattle, Washington, in the United States. The company was founded in 2002 by Scott M. Smith, Ryan Smith, Jared Smith and Stuart Orgill.Qualtrics is a subscription software for collecting and analyzing data for market research, customer satisfaction and loyalty, product and concept testing, employee evaluations and website feedback.On November 11, 2018 it was announced that Qualtrics would be acquired by SAP. The acquisition is expected to close in the first half of 2019.\\n\\n'"
      ]
     },
     "execution_count": 2,
     "metadata": {},
     "output_type": "execute_result"
    }
   ],
   "source": [
    "wikipedia.summary(\"Qualtrics\")"
   ]
  },
  {
   "cell_type": "code",
   "execution_count": 3,
   "metadata": {},
   "outputs": [],
   "source": [
    "x = wikipedia.page(\"Qualtrics\")"
   ]
  },
  {
   "cell_type": "code",
   "execution_count": 5,
   "metadata": {},
   "outputs": [
    {
     "data": {
      "text/plain": [
       "'https://en.wikipedia.org/wiki/Qualtrics'"
      ]
     },
     "execution_count": 5,
     "metadata": {},
     "output_type": "execute_result"
    }
   ],
   "source": [
    "x.content\n",
    "x.url"
   ]
  },
  {
   "cell_type": "markdown",
   "metadata": {},
   "source": [
    "## Option 2: Wikipediaapi - can get entire page or specific sections (but not the sidebar information)"
   ]
  },
  {
   "cell_type": "code",
   "execution_count": 11,
   "metadata": {},
   "outputs": [],
   "source": [
    "import wikipediaapi"
   ]
  },
  {
   "cell_type": "code",
   "execution_count": 12,
   "metadata": {},
   "outputs": [],
   "source": [
    "wiki_wiki = wikipediaapi.Wikipedia('en')"
   ]
  },
  {
   "cell_type": "code",
   "execution_count": 14,
   "metadata": {},
   "outputs": [],
   "source": [
    "p_wiki = wiki_wiki.page(\"Qualtrics\")\n",
    "#print(p_wiki.text)"
   ]
  },
  {
   "cell_type": "code",
   "execution_count": 15,
   "metadata": {},
   "outputs": [],
   "source": [
    "#p_wiki.sections"
   ]
  },
  {
   "cell_type": "markdown",
   "metadata": {},
   "source": [
    "## Option 3: Requests + Wikipedia API - can get entire page (including sidebar but not formatted, it is in json and not very consistent across pages)"
   ]
  },
  {
   "cell_type": "code",
   "execution_count": 18,
   "metadata": {},
   "outputs": [],
   "source": [
    "import requests \n",
    "\n",
    "S = requests.Session()\n",
    "\n",
    "URL = \"https://en.wikipedia.org/w/api.php\"\n",
    "\n",
    "TITLE = \"Qualtrics\"\n",
    "\n",
    "PARAMS = {\n",
    "    'action': \"parse\",\n",
    "    'page': TITLE,\n",
    "    'format': \"json\"\n",
    "}\n",
    "\n",
    "R = S.get(url=URL, params=PARAMS)\n",
    "DATA = R.json()\n",
    "#DATA['parse']\n",
    "\n",
    "#print(DATA)"
   ]
  },
  {
   "cell_type": "code",
   "execution_count": 19,
   "metadata": {},
   "outputs": [
    {
     "data": {
      "text/plain": [
       "dict"
      ]
     },
     "execution_count": 19,
     "metadata": {},
     "output_type": "execute_result"
    }
   ],
   "source": [
    "type(DATA)\n",
    "#DATA['parse']['text']['*']"
   ]
  },
  {
   "cell_type": "markdown",
   "metadata": {},
   "source": [
    "### METHOD ONLY GETS FIRST INDUSTRY"
   ]
  },
  {
   "cell_type": "code",
   "execution_count": 20,
   "metadata": {},
   "outputs": [],
   "source": [
    "from bs4 import BeautifulSoup\n",
    "\n",
    "def get_info(company_name):\n",
    "    industry = ''\n",
    "    \n",
    "    session = requests.Session()\n",
    "    url = \"https://en.wikipedia.org/w/api.php\"\n",
    "\n",
    "    PARAMS = {\n",
    "        'action': \"parse\",\n",
    "        'page': company_name,\n",
    "        'format': \"json\"\n",
    "    }\n",
    "    #print (PARAMS)\n",
    "    R = S.get(url=URL, params=PARAMS)\n",
    "    data = R.json()\n",
    "    text = data['parse']['text']['*']\n",
    "\n",
    "    soup = BeautifulSoup(text, \"lxml\")\n",
    "    contents = list(soup.stripped_strings)\n",
    "    \n",
    "    #print (contents)\n",
    "    \n",
    "    #official_company_name = contents[0]\n",
    "    \n",
    "    if \"Industry\" in contents:\n",
    "        industry = contents[contents.index(\"Industry\") + 1]\n",
    "        \n",
    "    \n",
    "    #if \"Website\" in contents:\n",
    "    #    website = contents[contents.index(\"Website\") + 1]\n",
    "\n",
    "    return (company_name, industry)\n"
   ]
  },
  {
   "cell_type": "code",
   "execution_count": 21,
   "metadata": {},
   "outputs": [
    {
     "data": {
      "text/plain": [
       "('Qualtrics', 'Experience Management')"
      ]
     },
     "execution_count": 21,
     "metadata": {},
     "output_type": "execute_result"
    }
   ],
   "source": [
    "get_info('Qualtrics')"
   ]
  },
  {
   "cell_type": "code",
   "execution_count": 22,
   "metadata": {},
   "outputs": [
    {
     "data": {
      "text/plain": [
       "('Facebook', 'Internet')"
      ]
     },
     "execution_count": 22,
     "metadata": {},
     "output_type": "execute_result"
    }
   ],
   "source": [
    "get_info('Facebook')"
   ]
  },
  {
   "cell_type": "code",
   "execution_count": 23,
   "metadata": {},
   "outputs": [
    {
     "data": {
      "text/plain": [
       "('Verizon Media', 'Internet')"
      ]
     },
     "execution_count": 23,
     "metadata": {},
     "output_type": "execute_result"
    }
   ],
   "source": [
    "get_info('Verizon Media')"
   ]
  },
  {
   "cell_type": "code",
   "execution_count": 91,
   "metadata": {},
   "outputs": [
    {
     "data": {
      "text/plain": [
       "{'action': 'parse', 'page': 'Qualtrics', 'format': 'json'}"
      ]
     },
     "execution_count": 91,
     "metadata": {},
     "output_type": "execute_result"
    }
   ],
   "source": [
    "x = DATA['parse']['text']['*']\n",
    "soup = BeautifulSoup(x, \"lxml\")\n",
    "list(soup.children)\n",
    "PARAMS\n",
    "#soup('body')"
   ]
  },
  {
   "cell_type": "markdown",
   "metadata": {},
   "source": [
    "### NEED BEAUTIFUL SOUP HELP HERE"
   ]
  },
  {
   "cell_type": "code",
   "execution_count": 24,
   "metadata": {},
   "outputs": [
    {
     "data": {
      "text/plain": [
       "'<html>\\n <body>\\n  <div class=\"mw-parser-output\">\\n   <div class=\"hatnote navigation-not-searchable\" role=\"note\">\\n    This article is about the social networking service. For the type of directory, see\\n    <a href=\"/wiki/Face_book\" title=\"Face book\">\\n     Face book\\n    </a>\\n    .\\n   </div>\\n   <p class=\"mw-empty-elt\">\\n   </p>\\n   <div class=\"shortdescription nomobile noexcerpt noprint searchaux\" style=\"display:none\">\\n    Global online social networking service\\n   </div>\\n   <p class=\"mw-empty-elt\">\\n   </p>\\n   <table class=\"infobox vcard\" style=\"width:22em\">\\n    <caption class=\"fn org\">\\n     Facebook, Inc.\\n    </caption>\\n    <tbody>\\n     <tr>\\n      <td colspan=\"2\" style=\"text-align:center\">\\n       <a class=\"image\" href=\"/wiki/File:Facebook_Logo_(2015)_light.svg\">\\n        <img alt=\"Facebook Logo (2015) light.svg\" data-file-height=\"99\" data-file-width=\"512\" decoding=\"async\" height=\"48\" src=\"//upload.wikimedia.org/wikipedia/commons/thumb/8/87/Facebook_Logo_%282015%29_light.svg/250px-Facebook_Logo_%282015%29_light.svg.png\" srcset=\"//upload.wikimedia.org/wikipedia/commons/thumb/8/87/Facebook_Logo_%282015%29_light.svg/375px-Facebook_Logo_%282015%29_light.svg.png 1.5x, //upload.wikimedia.org/wikipedia/commons/thumb/8/87/Facebook_Logo_%282015%29_light.svg/500px-Facebook_Logo_%282015%29_light.svg.png 2x\" width=\"250\"/>\\n       </a>\\n      </td>\\n     </tr>\\n     <tr>\\n      <td colspan=\"2\" style=\"text-align:center\">\\n       <a class=\"image\" href=\"/wiki/File:Facebook_user_page_(2019).png\">\\n        <img alt=\"Facebook user page (2019).png\" data-file-height=\"219\" data-file-width=\"390\" decoding=\"async\" height=\"168\" src=\"//upload.wikimedia.org/wikipedia/en/thumb/6/68/Facebook_user_page_%282019%29.png/300px-Facebook_user_page_%282019%29.png\" srcset=\"//upload.wikimedia.org/wikipedia/en/6/68/Facebook_user_page_%282019%29.png 1.5x\" width=\"300\"/>\\n       </a>\\n       <div>\\n        Mark Zuckerberg\\'s profile (viewed from the login page)\\n       </div>\\n      </td>\\n     </tr>\\n     <tr>\\n      <th scope=\"row\">\\n       <a class=\"mw-redirect\" href=\"/wiki/Types_of_business_entity\" title=\"Types of business entity\">\\n        Type of business\\n       </a>\\n      </th>\\n      <td class=\"category\">\\n       <a href=\"/wiki/Public_company\" title=\"Public company\">\\n        Public\\n       </a>\\n      </td>\\n     </tr>\\n     <tr>\\n      <th scope=\"row\">\\n       <div style=\"padding:0.1em 0;line-height:1.2em;\">\\n        Type of site\\n       </div>\\n      </th>\\n      <td>\\n       <a href=\"/wiki/Social_networking_service\" title=\"Social networking service\">\\n        Social networking service\\n       </a>\\n      </td>\\n     </tr>\\n     <tr>\\n      <th scope=\"row\">\\n       Available\\xa0in\\n      </th>\\n      <td>\\n       <a href=\"/wiki/Multilingualism\" title=\"Multilingualism\">\\n        Multilingual\\n       </a>\\n       (140)\\n      </td>\\n     </tr>\\n     <tr>\\n      <th scope=\"row\">\\n       <a href=\"/wiki/Ticker_symbol\" title=\"Ticker symbol\">\\n        Traded\\xa0as\\n       </a>\\n      </th>\\n      <td>\\n       <div class=\"plainlist\">\\n        <ul>\\n         <li>\\n          <a href=\"/wiki/NASDAQ\" title=\"NASDAQ\">\\n           NASDAQ\\n          </a>\\n          :\\n          <a class=\"external text\" href=\"https://www.nasdaq.com/symbol/fb\" rel=\"nofollow\">\\n           FB\\n          </a>\\n          (Class A)\\n         </li>\\n         <li>\\n          <a href=\"/wiki/NASDAQ-100\" title=\"NASDAQ-100\">\\n           NASDAQ-100\\n          </a>\\n          component\\n         </li>\\n         <li>\\n          <a href=\"/wiki/S%26P_100\" title=\"S&amp;P 100\">\\n           S&amp;P 100\\n          </a>\\n          component\\n         </li>\\n         <li>\\n          <a class=\"mw-redirect\" href=\"/wiki/S%26P_500\" title=\"S&amp;P 500\">\\n           S&amp;P 500\\n          </a>\\n          component\\n         </li>\\n        </ul>\\n       </div>\\n      </td>\\n     </tr>\\n     <tr>\\n      <th scope=\"row\">\\n       Founded\\n      </th>\\n      <td>\\n       February\\xa04, 2004\\n       <span class=\"noprint\">\\n        ; 14 years ago\\n       </span>\\n       <span style=\"display:none\">\\n        (\\n        <span class=\"bday dtstart published updated\">\\n         2004-02-04\\n        </span>\\n        )\\n       </span>\\n       in\\n       <a href=\"/wiki/Cambridge,_Massachusetts\" title=\"Cambridge, Massachusetts\">\\n        Cambridge\\n       </a>\\n       ,\\n       <a href=\"/wiki/Massachusetts\" title=\"Massachusetts\">\\n        Massachusetts\\n       </a>\\n       <sup class=\"reference\" id=\"cite_ref-1\">\\n        <a href=\"#cite_note-1\">\\n         [1]\\n        </a>\\n       </sup>\\n      </td>\\n     </tr>\\n     <tr>\\n      <th scope=\"row\">\\n       Headquarters\\n      </th>\\n      <td class=\"adr\">\\n       <div class=\"locality\" style=\"display:inline;\">\\n        1 Hacker Way\\n        <br/>\\n        (aka 1601 Willow Road)\\n        <br/>\\n        <a href=\"/wiki/Menlo_Park,_California\" title=\"Menlo Park, California\">\\n         Menlo Park, California\\n        </a>\\n       </div>\\n       ,\\n       <div class=\"country-name\" style=\"display:inline;\">\\n        U.S.\\n       </div>\\n      </td>\\n     </tr>\\n     <tr>\\n      <th scope=\"row\">\\n       Coordinates\\n      </th>\\n      <td>\\n       <span class=\"plainlinks nourlexpansion\">\\n        <a class=\"external text\" href=\"//tools.wmflabs.org/geohack/geohack.php?pagename=Facebook&amp;params=37.4848_N_122.1484_W_type:landmark_region:US-CA\">\\n         <span class=\"geo-nondefault\">\\n          <span class=\"geo-dms\" title=\"Maps, aerial photos, and other data for this location\">\\n           <span class=\"latitude\">\\n            37°29′05″N\\n           </span>\\n           <span class=\"longitude\">\\n            122°08′54″W\\n           </span>\\n          </span>\\n         </span>\\n         <span class=\"geo-multi-punct\">\\n          \\ufeff / \\ufeff\\n         </span>\\n         <span class=\"geo-default\">\\n          <span class=\"geo-dec\" title=\"Maps, aerial photos, and other data for this location\">\\n           37.4848°N 122.1484°W\\n          </span>\\n          <span style=\"display:none\">\\n           \\ufeff /\\n           <span class=\"geo\">\\n            37.4848; -122.1484\\n           </span>\\n          </span>\\n         </span>\\n        </a>\\n       </span>\\n       <span style=\"font-size: small;\">\\n        <span id=\"coordinates\">\\n         <a href=\"/wiki/Geographic_coordinate_system\" title=\"Geographic coordinate system\">\\n          Coordinates\\n         </a>\\n         :\\n         <span class=\"plainlinks nourlexpansion\">\\n          <a class=\"external text\" href=\"//tools.wmflabs.org/geohack/geohack.php?pagename=Facebook&amp;params=37.4848_N_122.1484_W_type:landmark_region:US-CA\">\\n           <span class=\"geo-nondefault\">\\n            <span class=\"geo-dms\" title=\"Maps, aerial photos, and other data for this location\">\\n             <span class=\"latitude\">\\n              37°29′05″N\\n             </span>\\n             <span class=\"longitude\">\\n              122°08′54″W\\n             </span>\\n            </span>\\n           </span>\\n           <span class=\"geo-multi-punct\">\\n            \\ufeff / \\ufeff\\n           </span>\\n           <span class=\"geo-default\">\\n            <span class=\"geo-dec\" title=\"Maps, aerial photos, and other data for this location\">\\n             37.4848°N 122.1484°W\\n            </span>\\n            <span style=\"display:none\">\\n             \\ufeff /\\n             <span class=\"geo\">\\n              37.4848; -122.1484\\n             </span>\\n            </span>\\n           </span>\\n          </a>\\n         </span>\\n        </span>\\n       </span>\\n      </td>\\n     </tr>\\n     <tr>\\n      <th scope=\"row\">\\n       Area\\xa0served\\n      </th>\\n      <td>\\n       United States (2004–present)\\n       <br/>\\n       Worldwide, except\\n       <a href=\"/wiki/Censorship_of_Facebook\" title=\"Censorship of Facebook\">\\n        blocking countries\\n       </a>\\n       (2005–present)\\n      </td>\\n     </tr>\\n     <tr>\\n      <th scope=\"row\">\\n       <a href=\"/wiki/Entrepreneurship\" title=\"Entrepreneurship\">\\n        Founder(s)\\n       </a>\\n      </th>\\n      <td>\\n       <div class=\"plainlist\">\\n        <ul>\\n         <li>\\n          <a href=\"/wiki/Mark_Zuckerberg\" title=\"Mark Zuckerberg\">\\n           Mark Zuckerberg\\n          </a>\\n         </li>\\n         <li>\\n          <a href=\"/wiki/Eduardo_Saverin\" title=\"Eduardo Saverin\">\\n           Eduardo Saverin\\n          </a>\\n         </li>\\n         <li>\\n          <a href=\"/wiki/Andrew_McCollum\" title=\"Andrew McCollum\">\\n           Andrew McCollum\\n          </a>\\n         </li>\\n         <li>\\n          <a href=\"/wiki/Dustin_Moskovitz\" title=\"Dustin Moskovitz\">\\n           Dustin Moskovitz\\n          </a>\\n         </li>\\n         <li>\\n          <a href=\"/wiki/Chris_Hughes\" title=\"Chris Hughes\">\\n           Chris Hughes\\n          </a>\\n         </li>\\n        </ul>\\n       </div>\\n      </td>\\n     </tr>\\n     <tr>\\n      <th scope=\"row\">\\n       Key\\xa0people\\n      </th>\\n      <td>\\n       Mark Zuckerberg\\n       <br/>\\n       (\\n       <a href=\"/wiki/Chairman\" title=\"Chairman\">\\n        Chairman\\n       </a>\\n       and\\n       <a href=\"/wiki/Chief_executive_officer\" title=\"Chief executive officer\">\\n        CEO\\n       </a>\\n       )\\n       <br/>\\n       <a href=\"/wiki/Sheryl_Sandberg\" title=\"Sheryl Sandberg\">\\n        Sheryl Sandberg\\n       </a>\\n       <br/>\\n       (\\n       <a href=\"/wiki/Chief_operating_officer\" title=\"Chief operating officer\">\\n        COO\\n       </a>\\n       )\\n       <br/>\\n       <a href=\"/wiki/David_Wehner\" title=\"David Wehner\">\\n        David Wehner\\n       </a>\\n       <br/>\\n       (\\n       <a href=\"/wiki/Chief_financial_officer\" title=\"Chief financial officer\">\\n        CFO\\n       </a>\\n       )\\n       <br/>\\n       <a href=\"/wiki/Mike_Schroepfer\" title=\"Mike Schroepfer\">\\n        Mike Schroepfer\\n       </a>\\n       <br/>\\n       (\\n       <a href=\"/wiki/Chief_technology_officer\" title=\"Chief technology officer\">\\n        CTO\\n       </a>\\n       )\\n       <br/>\\n       <a href=\"/wiki/Chris_Cox_(Facebook)\" title=\"Chris Cox (Facebook)\">\\n        Chris Cox\\n       </a>\\n       <br/>\\n       (\\n       <a href=\"/wiki/Chief_product_officer\" title=\"Chief product officer\">\\n        CPO\\n       </a>\\n       )\\n      </td>\\n     </tr>\\n     <tr>\\n      <th scope=\"row\">\\n       Industry\\n      </th>\\n      <td class=\"category\">\\n       <a href=\"/wiki/Internet\" title=\"Internet\">\\n        Internet\\n       </a>\\n      </td>\\n     </tr>\\n     <tr>\\n      <th scope=\"row\">\\n       <a href=\"/wiki/Product_(business)\" title=\"Product (business)\">\\n        Products\\n       </a>\\n      </th>\\n      <td>\\n       <a href=\"/wiki/Facebook_Messenger\" title=\"Facebook Messenger\">\\n        Messenger\\n       </a>\\n       <br/>\\n       <a href=\"/wiki/Facebook_Watch\" title=\"Facebook Watch\">\\n        Watch\\n       </a>\\n      </td>\\n     </tr>\\n     <tr>\\n      <th scope=\"row\">\\n       <a href=\"/wiki/Revenue\" title=\"Revenue\">\\n        Revenue\\n       </a>\\n      </th>\\n      <td>\\n       <img alt=\"Increase\" data-file-height=\"300\" data-file-width=\"300\" decoding=\"async\" height=\"11\" src=\"//upload.wikimedia.org/wikipedia/commons/thumb/b/b0/Increase2.svg/11px-Increase2.svg.png\" srcset=\"//upload.wikimedia.org/wikipedia/commons/thumb/b/b0/Increase2.svg/17px-Increase2.svg.png 1.5x, //upload.wikimedia.org/wikipedia/commons/thumb/b/b0/Increase2.svg/22px-Increase2.svg.png 2x\" title=\"Increase\" width=\"11\"/>\\n       <span style=\"white-space: nowrap\">\\n        <a href=\"/wiki/United_States_dollar\" title=\"United States dollar\">\\n         US$\\n        </a>\\n        40.653 billion\\n       </span>\\n       (2017)\\n       <sup class=\"reference\" id=\"cite_ref-10k2015_2-0\">\\n        <a href=\"#cite_note-10k2015-2\">\\n         [2]\\n        </a>\\n       </sup>\\n      </td>\\n     </tr>\\n     <tr>\\n      <th scope=\"row\">\\n       <a href=\"/wiki/Earnings_before_interest_and_taxes\" title=\"Earnings before interest and taxes\">\\n        Operating income\\n       </a>\\n      </th>\\n      <td>\\n       <img alt=\"Increase\" data-file-height=\"300\" data-file-width=\"300\" decoding=\"async\" height=\"11\" src=\"//upload.wikimedia.org/wikipedia/commons/thumb/b/b0/Increase2.svg/11px-Increase2.svg.png\" srcset=\"//upload.wikimedia.org/wikipedia/commons/thumb/b/b0/Increase2.svg/17px-Increase2.svg.png 1.5x, //upload.wikimedia.org/wikipedia/commons/thumb/b/b0/Increase2.svg/22px-Increase2.svg.png 2x\" title=\"Increase\" width=\"11\"/>\\n       <span style=\"white-space: nowrap\">\\n        US$20.203 billion\\n       </span>\\n       (2017)\\n       <sup class=\"reference\" id=\"cite_ref-10k2015_2-1\">\\n        <a href=\"#cite_note-10k2015-2\">\\n         [2]\\n        </a>\\n       </sup>\\n      </td>\\n     </tr>\\n     <tr>\\n      <th scope=\"row\">\\n       <a href=\"/wiki/Net_income\" title=\"Net income\">\\n        Net income\\n       </a>\\n      </th>\\n      <td>\\n       <img alt=\"Increase\" data-file-height=\"300\" data-file-width=\"300\" decoding=\"async\" height=\"11\" src=\"//upload.wikimedia.org/wikipedia/commons/thumb/b/b0/Increase2.svg/11px-Increase2.svg.png\" srcset=\"//upload.wikimedia.org/wikipedia/commons/thumb/b/b0/Increase2.svg/17px-Increase2.svg.png 1.5x, //upload.wikimedia.org/wikipedia/commons/thumb/b/b0/Increase2.svg/22px-Increase2.svg.png 2x\" title=\"Increase\" width=\"11\"/>\\n       <span style=\"white-space: nowrap\">\\n        US$15.934 billion\\n       </span>\\n       (2017)\\n       <sup class=\"reference\" id=\"cite_ref-10k2015_2-2\">\\n        <a href=\"#cite_note-10k2015-2\">\\n         [2]\\n        </a>\\n       </sup>\\n      </td>\\n     </tr>\\n     <tr>\\n      <th scope=\"row\">\\n       <a href=\"/wiki/Asset\" title=\"Asset\">\\n        Total assets\\n       </a>\\n      </th>\\n      <td>\\n       <img alt=\"Increase\" data-file-height=\"300\" data-file-width=\"300\" decoding=\"async\" height=\"11\" src=\"//upload.wikimedia.org/wikipedia/commons/thumb/b/b0/Increase2.svg/11px-Increase2.svg.png\" srcset=\"//upload.wikimedia.org/wikipedia/commons/thumb/b/b0/Increase2.svg/17px-Increase2.svg.png 1.5x, //upload.wikimedia.org/wikipedia/commons/thumb/b/b0/Increase2.svg/22px-Increase2.svg.png 2x\" title=\"Increase\" width=\"11\"/>\\n       <span style=\"white-space: nowrap\">\\n        US$84.524 billion\\n       </span>\\n       (2017)\\n       <sup class=\"reference\" id=\"cite_ref-10k2015_2-3\">\\n        <a href=\"#cite_note-10k2015-2\">\\n         [2]\\n        </a>\\n       </sup>\\n      </td>\\n     </tr>\\n     <tr>\\n      <th scope=\"row\">\\n       <a href=\"/wiki/Equity_(finance)\" title=\"Equity (finance)\">\\n        Total equity\\n       </a>\\n      </th>\\n      <td>\\n       <img alt=\"Increase\" data-file-height=\"300\" data-file-width=\"300\" decoding=\"async\" height=\"11\" src=\"//upload.wikimedia.org/wikipedia/commons/thumb/b/b0/Increase2.svg/11px-Increase2.svg.png\" srcset=\"//upload.wikimedia.org/wikipedia/commons/thumb/b/b0/Increase2.svg/17px-Increase2.svg.png 1.5x, //upload.wikimedia.org/wikipedia/commons/thumb/b/b0/Increase2.svg/22px-Increase2.svg.png 2x\" title=\"Increase\" width=\"11\"/>\\n       <span style=\"white-space: nowrap\">\\n        US$74.347 billion\\n       </span>\\n       (2017)\\n       <sup class=\"reference\" id=\"cite_ref-10k2015_2-4\">\\n        <a href=\"#cite_note-10k2015-2\">\\n         [2]\\n        </a>\\n       </sup>\\n      </td>\\n     </tr>\\n     <tr>\\n      <th scope=\"row\">\\n       Employees\\n      </th>\\n      <td>\\n       30,275 (June 30, 2018)\\n       <sup class=\"reference\" id=\"cite_ref-3\">\\n        <a href=\"#cite_note-3\">\\n         [3]\\n        </a>\\n       </sup>\\n      </td>\\n     </tr>\\n     <tr>\\n      <th scope=\"row\">\\n       Subsidiaries\\n      </th>\\n      <td>\\n       <a href=\"/wiki/Instagram\" title=\"Instagram\">\\n        Instagram\\n       </a>\\n       <br/>\\n       <a href=\"/wiki/WhatsApp\" title=\"WhatsApp\">\\n        WhatsApp\\n       </a>\\n       <br/>\\n       <a href=\"/wiki/Oculus_VR\" title=\"Oculus VR\">\\n        Oculus VR\\n       </a>\\n      </td>\\n     </tr>\\n     <tr>\\n      <th scope=\"row\">\\n       Website\\n      </th>\\n      <td class=\"url\">\\n       <div class=\"hlist hlist-separated\">\\n        <ul>\\n         <li>\\n          <span class=\"url\">\\n           <a class=\"external text\" href=\"https://www.facebook.com/\" rel=\"nofollow\">\\n            www\\n            <wbr>\\n            </wbr>\\n            .facebook\\n            <wbr>\\n            </wbr>\\n            .com\\n           </a>\\n          </span>\\n         </li>\\n         <li>\\n          <span class=\"url\">\\n           <a class=\"external text\" href=\"https://www.fb.com/\" rel=\"nofollow\">\\n            www\\n            <wbr>\\n            </wbr>\\n            .fb\\n            <wbr>\\n            </wbr>\\n            .com\\n           </a>\\n          </span>\\n         </li>\\n         <li>\\n          <span class=\"url\">\\n           <a class=\"external text\" href=\"https://facebookcorewwwi.onion\" rel=\"nofollow\">\\n            facebookcorewwwi\\n            <wbr>\\n            </wbr>\\n            .onion\\n           </a>\\n          </span>\\n          (\\n          <a href=\"/wiki/Dark_web\" title=\"Dark web\">\\n           Dark web\\n          </a>\\n          )\\n         </li>\\n        </ul>\\n       </div>\\n      </td>\\n     </tr>\\n     <tr>\\n      <th scope=\"row\">\\n       <a href=\"/wiki/Alexa_Internet\" title=\"Alexa Internet\">\\n        Alexa\\n       </a>\\n       rank\\n      </th>\\n      <td>\\n       <img alt=\"Steady\" data-file-height=\"300\" data-file-width=\"300\" decoding=\"async\" height=\"11\" src=\"//upload.wikimedia.org/wikipedia/commons/thumb/9/96/Steady2.svg/11px-Steady2.svg.png\" srcset=\"//upload.wikimedia.org/wikipedia/commons/thumb/9/96/Steady2.svg/17px-Steady2.svg.png 1.5x, //upload.wikimedia.org/wikipedia/commons/thumb/9/96/Steady2.svg/22px-Steady2.svg.png 2x\" title=\"Steady\" width=\"11\"/>\\n       3 (January 2019)\\n       <sup class=\"plainlinks noexcerpt noprint asof-tag update\" style=\"display:none;\">\\n        <a class=\"external text\" href=\"//en.wikipedia.org/w/index.php?title=Facebook&amp;action=edit\">\\n         [update]\\n        </a>\\n       </sup>\\n       <sup class=\"reference\" id=\"cite_ref-alexa_4-0\">\\n        <a href=\"#cite_note-alexa-4\">\\n         [4]\\n        </a>\\n       </sup>\\n      </td>\\n     </tr>\\n     <tr>\\n      <th scope=\"row\">\\n       Registration\\n      </th>\\n      <td>\\n       Required\\n      </td>\\n     </tr>\\n     <tr>\\n      <th scope=\"row\">\\n       <a href=\"/wiki/Registered_user\" title=\"Registered user\">\\n        Users\\n       </a>\\n      </th>\\n      <td>\\n       <img alt=\"Increase\" data-file-height=\"300\" data-file-width=\"300\" decoding=\"async\" height=\"11\" src=\"//upload.wikimedia.org/wikipedia/commons/thumb/b/b0/Increase2.svg/11px-Increase2.svg.png\" srcset=\"//upload.wikimedia.org/wikipedia/commons/thumb/b/b0/Increase2.svg/17px-Increase2.svg.png 1.5x, //upload.wikimedia.org/wikipedia/commons/thumb/b/b0/Increase2.svg/22px-Increase2.svg.png 2x\" title=\"Increase\" width=\"11\"/>\\n       2.2 billion monthly active users (January 2018)\\n       <sup class=\"plainlinks noexcerpt noprint asof-tag update\" style=\"display:none;\">\\n        <a class=\"external text\" href=\"//en.wikipedia.org/w/index.php?title=Facebook&amp;action=edit\">\\n         [update]\\n        </a>\\n       </sup>\\n      </td>\\n     </tr>\\n     <tr>\\n      <th scope=\"row\">\\n       Current\\xa0status\\n      </th>\\n      <td class=\"category\">\\n       Active\\n      </td>\\n     </tr>\\n     <tr>\\n      <th scope=\"row\">\\n       Written\\xa0in\\n      </th>\\n      <td>\\n       <a href=\"/wiki/C%2B%2B\" title=\"C++\">\\n        C++\\n       </a>\\n       ,\\n       <a href=\"/wiki/PHP\" title=\"PHP\">\\n        PHP\\n       </a>\\n       (as\\n       <a class=\"mw-redirect\" href=\"/wiki/HipHop_Virtual_Machine\" title=\"HipHop Virtual Machine\">\\n        HHVM\\n       </a>\\n       ),\\n       <sup class=\"reference\" id=\"cite_ref-5\">\\n        <a href=\"#cite_note-5\">\\n         [5]\\n        </a>\\n       </sup>\\n       <a href=\"/wiki/D_(programming_language)\" title=\"D (programming language)\">\\n        D\\n       </a>\\n       <sup class=\"reference\" id=\"cite_ref-6\">\\n        <a href=\"#cite_note-6\">\\n         [6]\\n        </a>\\n       </sup>\\n      </td>\\n     </tr>\\n    </tbody>\\n   </table>\\n   <p>\\n    <b>\\n     Facebook, Inc.\\n    </b>\\n    is an American online\\n    <a href=\"/wiki/Social_media\" title=\"Social media\">\\n     social media\\n    </a>\\n    and\\n    <a href=\"/wiki/Social_networking_service\" title=\"Social networking service\">\\n     social networking service\\n    </a>\\n    company based in\\n    <a href=\"/wiki/Menlo_Park,_California\" title=\"Menlo Park, California\">\\n     Menlo Park, California\\n    </a>\\n    . Its website was launched on February 4, 2004, by\\n    <a href=\"/wiki/Mark_Zuckerberg\" title=\"Mark Zuckerberg\">\\n     Mark Zuckerberg\\n    </a>\\n    , along with fellow\\n    <a href=\"/wiki/Harvard_College\" title=\"Harvard College\">\\n     Harvard College\\n    </a>\\n    students and roommates\\n    <a href=\"/wiki/Eduardo_Saverin\" title=\"Eduardo Saverin\">\\n     Eduardo Saverin\\n    </a>\\n    ,\\n    <a href=\"/wiki/Andrew_McCollum\" title=\"Andrew McCollum\">\\n     Andrew McCollum\\n    </a>\\n    ,\\n    <a href=\"/wiki/Dustin_Moskovitz\" title=\"Dustin Moskovitz\">\\n     Dustin Moskovitz\\n    </a>\\n    , and\\n    <a href=\"/wiki/Chris_Hughes\" title=\"Chris Hughes\">\\n     Chris Hughes\\n    </a>\\n    . It is considered one of the\\n    <a href=\"/wiki/Big_Four_tech_companies\" title=\"Big Four tech companies\">\\n     Big Four\\n    </a>\\n    technology companies along with\\n    <a href=\"/wiki/Amazon_(company)\" title=\"Amazon (company)\">\\n     Amazon\\n    </a>\\n    ,\\n    <a href=\"/wiki/Apple_Inc.\" title=\"Apple Inc.\">\\n     Apple\\n    </a>\\n    , and\\n    <a href=\"/wiki/Google\" title=\"Google\">\\n     Google\\n    </a>\\n    .\\n    <sup class=\"reference\" id=\"cite_ref-7\">\\n     <a href=\"#cite_note-7\">\\n      [7]\\n     </a>\\n    </sup>\\n    <sup class=\"reference\" id=\"cite_ref-8\">\\n     <a href=\"#cite_note-8\">\\n      [8]\\n     </a>\\n    </sup>\\n   </p>\\n   <p>\\n    The founders initially limited the website\\'s membership to Harvard students and subsequently\\n    <a href=\"/wiki/Columbia_University\" title=\"Columbia University\">\\n     Columbia\\n    </a>\\n    ,\\n    <a class=\"mw-redirect\" href=\"/wiki/Stanford\" title=\"Stanford\">\\n     Stanford\\n    </a>\\n    , and\\n    <a class=\"mw-redirect\" href=\"/wiki/Yale\" title=\"Yale\">\\n     Yale\\n    </a>\\n    students. Membership was eventually expanded to the remaining\\n    <a href=\"/wiki/Ivy_League\" title=\"Ivy League\">\\n     Ivy League\\n    </a>\\n    schools,\\n    <a class=\"mw-redirect\" href=\"/wiki/MIT\" title=\"MIT\">\\n     MIT\\n    </a>\\n    , and\\n    <a href=\"/wiki/List_of_colleges_and_universities_in_metropolitan_Boston\" title=\"List of colleges and universities in metropolitan Boston\">\\n     higher education institutions in the Boston area\\n    </a>\\n    . Facebook gradually added support for students at various other universities, and eventually to high school students. Since 2006, anyone who claims to be at least 13 years old has been allowed to become a registered user of Facebook, though variations exist in this requirement, depending on local laws. The name comes from the\\n    <a href=\"/wiki/Face_book\" title=\"Face book\">\\n     face book\\n    </a>\\n    directories often given to American university students. Facebook held its\\n    <a href=\"/wiki/Initial_public_offering\" title=\"Initial public offering\">\\n     initial public offering\\n    </a>\\n    (IPO) in February 2012, valuing the company at $104 billion, the largest valuation to date for a newly listed public company. It began selling\\n    <a href=\"/wiki/Stock\" title=\"Stock\">\\n     stock\\n    </a>\\n    to the public three months later. Facebook makes most of its revenue from\\n    <a href=\"/wiki/Advertising\" title=\"Advertising\">\\n     advertisements\\n    </a>\\n    that appear onscreen.\\n   </p>\\n   <p>\\n    Facebook can be accessed from a large range of devices with\\n    <a href=\"/wiki/Internet\" title=\"Internet\">\\n     Internet\\n    </a>\\n    connectivity, such as\\n    <a href=\"/wiki/Desktop_computer\" title=\"Desktop computer\">\\n     desktop computers\\n    </a>\\n    ,\\n    <a href=\"/wiki/Laptop\" title=\"Laptop\">\\n     laptops\\n    </a>\\n    and\\n    <a href=\"/wiki/Tablet_computer\" title=\"Tablet computer\">\\n     tablet\\n    </a>\\n    computers, and\\n    <a href=\"/wiki/Smartphone\" title=\"Smartphone\">\\n     smartphones\\n    </a>\\n    . After registering, users can create a customized profile indicating their name, occupation, schools attended and so on. Users can add other users as\\n    <a href=\"/wiki/Friending_and_following\" title=\"Friending and following\">\\n     \"friends\"\\n    </a>\\n    , exchange messages, post status updates, share photos, videos and links, use various\\n    <a href=\"/wiki/Application_software\" title=\"Application software\">\\n     software applications\\n    </a>\\n    (\"apps\"), and receive notifications of other users\\' activity. Additionally, users may join common-interest user groups organized by workplace, school, hobbies or other topics, and categorize their friends into lists such as \"People From Work\" or \"Close Friends\". Additionally, users can report or block unpleasant people.\\n   </p>\\n   <p>\\n    Facebook has more than\\n    <a href=\"/wiki/List_of_virtual_communities_with_more_than_100_million_active_users\" title=\"List of virtual communities with more than 100 million active users\">\\n     2.2 billion monthly active users\\n    </a>\\n    as of  January\\xa02018.\\n    <sup class=\"plainlinks noexcerpt noprint asof-tag update\" style=\"display:none;\">\\n     <a class=\"external text\" href=\"//en.wikipedia.org/w/index.php?title=Facebook&amp;action=edit\">\\n      [update]\\n     </a>\\n    </sup>\\n    Its popularity has led to prominent media coverage for the company, including significant scrutiny over privacy\\n    <sup class=\"reference\" id=\"cite_ref-9\">\\n     <a href=\"#cite_note-9\">\\n      [9]\\n     </a>\\n    </sup>\\n    <sup class=\"reference\" id=\"cite_ref-10\">\\n     <a href=\"#cite_note-10\">\\n      [10]\\n     </a>\\n    </sup>\\n    and the psychological effects it has on users. In recent years, the company has faced intense pressure over the amount of\\n    <a href=\"/wiki/Fake_news\" title=\"Fake news\">\\n     fake news\\n    </a>\\n    ,\\n    <a href=\"/wiki/Hate_speech\" title=\"Hate speech\">\\n     hate speech\\n    </a>\\n    , and\\n    <a href=\"/wiki/Criticism_of_Facebook#Facebook_Live\" title=\"Criticism of Facebook\">\\n     depictions of violence\\n    </a>\\n    prevalent on its services, all of which it is attempting to counteract.\\n   </p>\\n   <div class=\"mw-references-wrap\">\\n    <ol class=\"references\">\\n     <li id=\"cite_note-1\">\\n      <span class=\"mw-cite-backlink\">\\n       <b>\\n        <a href=\"#cite_ref-1\">\\n         ^\\n        </a>\\n       </b>\\n      </span>\\n      <span class=\"reference-text\">\\n       <cite class=\"citation web\">\\n        <a class=\"external text\" href=\"https://newsroom.fb.com/company-info/\" rel=\"nofollow\">\\n         \"Our History\"\\n        </a>\\n        .\\n        <i>\\n         Facebook\\n        </i>\\n        <span class=\"reference-accessdate\">\\n         . Retrieved\\n         <span class=\"nowrap\">\\n          November 7,\\n         </span>\\n         2018\\n        </span>\\n        .\\n       </cite>\\n       <span class=\"Z3988\" title=\"ctx_ver=Z39.88-2004&amp;rft_val_fmt=info%3Aofi%2Ffmt%3Akev%3Amtx%3Ajournal&amp;rft.genre=unknown&amp;rft.jtitle=Facebook&amp;rft.atitle=Our+History&amp;rft_id=https%3A%2F%2Fnewsroom.fb.com%2Fcompany-info%2F&amp;rfr_id=info%3Asid%2Fen.wikipedia.org%3AFacebook\">\\n       </span>\\n       <style data-mw-deduplicate=\"TemplateStyles:r879151008\">\\n        .mw-parser-output cite.citation{font-style:inherit}.mw-parser-output .citation q{quotes:\"\\\\\"\"\"\\\\\"\"\"\\'\"\"\\'\"}.mw-parser-output .citation .cs1-lock-free a{background:url(\"//upload.wikimedia.org/wikipedia/commons/thumb/6/65/Lock-green.svg/9px-Lock-green.svg.png\")no-repeat;background-position:right .1em center}.mw-parser-output .citation .cs1-lock-limited a,.mw-parser-output .citation .cs1-lock-registration a{background:url(\"//upload.wikimedia.org/wikipedia/commons/thumb/d/d6/Lock-gray-alt-2.svg/9px-Lock-gray-alt-2.svg.png\")no-repeat;background-position:right .1em center}.mw-parser-output .citation .cs1-lock-subscription a{background:url(\"//upload.wikimedia.org/wikipedia/commons/thumb/a/aa/Lock-red-alt-2.svg/9px-Lock-red-alt-2.svg.png\")no-repeat;background-position:right .1em center}.mw-parser-output .cs1-subscription,.mw-parser-output .cs1-registration{color:#555}.mw-parser-output .cs1-subscription span,.mw-parser-output .cs1-registration span{border-bottom:1px dotted;cursor:help}.mw-parser-output .cs1-ws-icon a{background:url(\"//upload.wikimedia.org/wikipedia/commons/thumb/4/4c/Wikisource-logo.svg/12px-Wikisource-logo.svg.png\")no-repeat;background-position:right .1em center}.mw-parser-output code.cs1-code{color:inherit;background:inherit;border:inherit;padding:inherit}.mw-parser-output .cs1-hidden-error{display:none;font-size:100%}.mw-parser-output .cs1-visible-error{font-size:100%}.mw-parser-output .cs1-maint{display:none;color:#33aa33;margin-left:0.3em}.mw-parser-output .cs1-subscription,.mw-parser-output .cs1-registration,.mw-parser-output .cs1-format{font-size:95%}.mw-parser-output .cs1-kern-left,.mw-parser-output .cs1-kern-wl-left{padding-left:0.2em}.mw-parser-output .cs1-kern-right,.mw-parser-output .cs1-kern-wl-right{padding-right:0.2em}\\n       </style>\\n      </span>\\n     </li>\\n     <li id=\"cite_note-10k2015-2\">\\n      <span class=\"mw-cite-backlink\">\\n       ^\\n       <a href=\"#cite_ref-10k2015_2-0\">\\n        <sup>\\n         <i>\\n          <b>\\n           a\\n          </b>\\n         </i>\\n        </sup>\\n       </a>\\n       <a href=\"#cite_ref-10k2015_2-1\">\\n        <sup>\\n         <i>\\n          <b>\\n           b\\n          </b>\\n         </i>\\n        </sup>\\n       </a>\\n       <a href=\"#cite_ref-10k2015_2-2\">\\n        <sup>\\n         <i>\\n          <b>\\n           c\\n          </b>\\n         </i>\\n        </sup>\\n       </a>\\n       <a href=\"#cite_ref-10k2015_2-3\">\\n        <sup>\\n         <i>\\n          <b>\\n           d\\n          </b>\\n         </i>\\n        </sup>\\n       </a>\\n       <a href=\"#cite_ref-10k2015_2-4\">\\n        <sup>\\n         <i>\\n          <b>\\n           e\\n          </b>\\n         </i>\\n        </sup>\\n       </a>\\n      </span>\\n      <span class=\"reference-text\">\\n       <cite class=\"citation web\">\\n        <a class=\"external text\" href=\"https://www.google.com/finance?q=NASDAQ%3AFB&amp;fstype=ii\" rel=\"nofollow\">\\n         \"10-K Annual Report\"\\n        </a>\\n        .\\n        <i>\\n         SEC Filings\\n        </i>\\n        . Facebook. January 28, 2017\\n        <span class=\"reference-accessdate\">\\n         . Retrieved\\n         <span class=\"nowrap\">\\n          February 3,\\n         </span>\\n         2017\\n        </span>\\n        .\\n       </cite>\\n       <span class=\"Z3988\" title=\"ctx_ver=Z39.88-2004&amp;rft_val_fmt=info%3Aofi%2Ffmt%3Akev%3Amtx%3Ajournal&amp;rft.genre=unknown&amp;rft.jtitle=SEC+Filings&amp;rft.atitle=10-K+Annual+Report&amp;rft.date=2017-01-28&amp;rft_id=https%3A%2F%2Fwww.google.com%2Ffinance%3Fq%3DNASDAQ%253AFB%26fstype%3Dii&amp;rfr_id=info%3Asid%2Fen.wikipedia.org%3AFacebook\">\\n       </span>\\n       <link href=\"mw-data:TemplateStyles:r879151008\" rel=\"mw-deduplicated-inline-style\"/>\\n      </span>\\n     </li>\\n     <li id=\"cite_note-3\">\\n      <span class=\"mw-cite-backlink\">\\n       <b>\\n        <a href=\"#cite_ref-3\">\\n         ^\\n        </a>\\n       </b>\\n      </span>\\n      <span class=\"reference-text\">\\n       <cite class=\"citation web\">\\n        <a class=\"external text\" href=\"https://newsroom.fb.com/company-info/\" rel=\"nofollow\">\\n         \"Stats\"\\n        </a>\\n        . Facebook. June 30, 2018\\n        <span class=\"reference-accessdate\">\\n         . Retrieved\\n         <span class=\"nowrap\">\\n          July 25,\\n         </span>\\n         2018\\n        </span>\\n        .\\n       </cite>\\n       <span class=\"Z3988\" title=\"ctx_ver=Z39.88-2004&amp;rft_val_fmt=info%3Aofi%2Ffmt%3Akev%3Amtx%3Abook&amp;rft.genre=unknown&amp;rft.btitle=Stats&amp;rft.pub=Facebook&amp;rft.date=2018-06-30&amp;rft_id=https%3A%2F%2Fnewsroom.fb.com%2Fcompany-info%2F&amp;rfr_id=info%3Asid%2Fen.wikipedia.org%3AFacebook\">\\n       </span>\\n       <link href=\"mw-data:TemplateStyles:r879151008\" rel=\"mw-deduplicated-inline-style\"/>\\n      </span>\\n     </li>\\n     <li id=\"cite_note-alexa-4\">\\n      <span class=\"mw-cite-backlink\">\\n       <b>\\n        <a href=\"#cite_ref-alexa_4-0\">\\n         ^\\n        </a>\\n       </b>\\n      </span>\\n      <span class=\"reference-text\">\\n       <cite class=\"citation web\">\\n        <a class=\"external text\" href=\"https://www.alexa.com/siteinfo/facebook.com\" rel=\"nofollow\">\\n         \"Facebook.com Traffic, Demographics and Competitors - Alexa\"\\n        </a>\\n        .\\n        <i>\\n         www.alexa.com\\n        </i>\\n        <span class=\"reference-accessdate\">\\n         . Retrieved\\n         <span class=\"nowrap\">\\n          January 3,\\n         </span>\\n         2019\\n        </span>\\n        .\\n       </cite>\\n       <span class=\"Z3988\" title=\"ctx_ver=Z39.88-2004&amp;rft_val_fmt=info%3Aofi%2Ffmt%3Akev%3Amtx%3Ajournal&amp;rft.genre=unknown&amp;rft.jtitle=www.alexa.com&amp;rft.atitle=Facebook.com+Traffic%2C+Demographics+and+Competitors+-+Alexa&amp;rft_id=https%3A%2F%2Fwww.alexa.com%2Fsiteinfo%2Ffacebook.com&amp;rfr_id=info%3Asid%2Fen.wikipedia.org%3AFacebook\">\\n       </span>\\n       <link href=\"mw-data:TemplateStyles:r879151008\" rel=\"mw-deduplicated-inline-style\"/>\\n      </span>\\n     </li>\\n     <li id=\"cite_note-5\">\\n      <span class=\"mw-cite-backlink\">\\n       <b>\\n        <a href=\"#cite_ref-5\">\\n         ^\\n        </a>\\n       </b>\\n      </span>\\n      <span class=\"reference-text\">\\n       <cite class=\"citation web\">\\n        Clarke, Gavin (February 2, 2010).\\n        <a class=\"external text\" href=\"https://www.theregister.co.uk/2010/02/02/facebook_hiphop_unveiled/\" rel=\"nofollow\">\\n         \"Facebook re-write takes PHP to an enterprise past\"\\n        </a>\\n        .\\n        <i>\\n         <a href=\"/wiki/The_Register\" title=\"The Register\">\\n          The Register\\n         </a>\\n        </i>\\n        . Situation Publishing\\n        <span class=\"reference-accessdate\">\\n         . Retrieved\\n         <span class=\"nowrap\">\\n          March 23,\\n         </span>\\n         2017\\n        </span>\\n        .\\n       </cite>\\n       <span class=\"Z3988\" title=\"ctx_ver=Z39.88-2004&amp;rft_val_fmt=info%3Aofi%2Ffmt%3Akev%3Amtx%3Ajournal&amp;rft.genre=unknown&amp;rft.jtitle=The+Register&amp;rft.atitle=Facebook+re-write+takes+PHP+to+an+enterprise+past&amp;rft.date=2010-02-02&amp;rft.aulast=Clarke&amp;rft.aufirst=Gavin&amp;rft_id=https%3A%2F%2Fwww.theregister.co.uk%2F2010%2F02%2F02%2Ffacebook_hiphop_unveiled%2F&amp;rfr_id=info%3Asid%2Fen.wikipedia.org%3AFacebook\">\\n       </span>\\n       <link href=\"mw-data:TemplateStyles:r879151008\" rel=\"mw-deduplicated-inline-style\"/>\\n      </span>\\n     </li>\\n     <li id=\"cite_note-6\">\\n      <span class=\"mw-cite-backlink\">\\n       <b>\\n        <a href=\"#cite_ref-6\">\\n         ^\\n        </a>\\n       </b>\\n      </span>\\n      <span class=\"reference-text\">\\n       <cite class=\"citation news\">\\n        Bridgwater, Adrian (October 16, 2013).\\n        <a class=\"external text\" href=\"http://www.drdobbs.com/mobile/facebook-adopts-d-language/240162694\" rel=\"nofollow\">\\n         \"Facebook Adopts D Language\"\\n        </a>\\n        .\\n        <i>\\n         Dr Dobb\\'s\\n        </i>\\n        . San Francisco.\\n       </cite>\\n       <span class=\"Z3988\" title=\"ctx_ver=Z39.88-2004&amp;rft_val_fmt=info%3Aofi%2Ffmt%3Akev%3Amtx%3Ajournal&amp;rft.genre=article&amp;rft.jtitle=Dr+Dobb%27s&amp;rft.atitle=Facebook+Adopts+D+Language&amp;rft.date=2013-10-16&amp;rft.aulast=Bridgwater&amp;rft.aufirst=Adrian&amp;rft_id=http%3A%2F%2Fwww.drdobbs.com%2Fmobile%2Ffacebook-adopts-d-language%2F240162694&amp;rfr_id=info%3Asid%2Fen.wikipedia.org%3AFacebook\">\\n       </span>\\n       <link href=\"mw-data:TemplateStyles:r879151008\" rel=\"mw-deduplicated-inline-style\"/>\\n      </span>\\n     </li>\\n     <li id=\"cite_note-7\">\\n      <span class=\"mw-cite-backlink\">\\n       <b>\\n        <a href=\"#cite_ref-7\">\\n         ^\\n        </a>\\n       </b>\\n      </span>\\n      <span class=\"reference-text\">\\n       <cite class=\"citation web\">\\n        Rivas, Teresa.\\n        <a class=\"external text\" href=\"http://www.barrons.com/articles/ranking-the-big-four-internet-stocks-google-is-no-1-apple-comes-in-last-1503412102\" rel=\"nofollow\">\\n         \"Ranking The Big Four Tech Stocks: Google Is No. 1, Apple Comes In Last\"\\n        </a>\\n        .\\n        <i>\\n         www.barrons.com\\n        </i>\\n        <span class=\"reference-accessdate\">\\n         . Retrieved\\n         <span class=\"nowrap\">\\n          December 27,\\n         </span>\\n         2018\\n        </span>\\n        .\\n       </cite>\\n       <span class=\"Z3988\" title=\"ctx_ver=Z39.88-2004&amp;rft_val_fmt=info%3Aofi%2Ffmt%3Akev%3Amtx%3Ajournal&amp;rft.genre=unknown&amp;rft.jtitle=www.barrons.com&amp;rft.atitle=Ranking+The+Big+Four+Tech+Stocks%3A+Google+Is+No.+1%2C+Apple+Comes+In+Last&amp;rft.aulast=Rivas&amp;rft.aufirst=Teresa&amp;rft_id=http%3A%2F%2Fwww.barrons.com%2Farticles%2Franking-the-big-four-internet-stocks-google-is-no-1-apple-comes-in-last-1503412102&amp;rfr_id=info%3Asid%2Fen.wikipedia.org%3AFacebook\">\\n       </span>\\n       <link href=\"mw-data:TemplateStyles:r879151008\" rel=\"mw-deduplicated-inline-style\"/>\\n      </span>\\n     </li>\\n     <li id=\"cite_note-8\">\\n      <span class=\"mw-cite-backlink\">\\n       <b>\\n        <a href=\"#cite_ref-8\">\\n         ^\\n        </a>\\n       </b>\\n      </span>\\n      <span class=\"reference-text\">\\n       <cite class=\"citation web\">\\n        <a class=\"external text\" href=\"https://www.bloomberg.com/tosv2.html?vid=&amp;uuid=b59d20a0-09f2-11e9-91bf-fb71962f5636&amp;url=L29waW5pb24vYXJ0aWNsZXMvMjAxNy0xMC0zMS90aGUtYmlnLWZvdXItb2YtdGVjaG5vbG9neQ==\" rel=\"nofollow\">\\n         \"Bloomberg - Are you a robot?\"\\n        </a>\\n        .\\n        <i>\\n         www.bloomberg.com\\n        </i>\\n        <span class=\"reference-accessdate\">\\n         . Retrieved\\n         <span class=\"nowrap\">\\n          December 27,\\n         </span>\\n         2018\\n        </span>\\n        .\\n       </cite>\\n       <span class=\"Z3988\" title=\"ctx_ver=Z39.88-2004&amp;rft_val_fmt=info%3Aofi%2Ffmt%3Akev%3Amtx%3Ajournal&amp;rft.genre=unknown&amp;rft.jtitle=www.bloomberg.com&amp;rft.atitle=Bloomberg+-+Are+you+a+robot%3F&amp;rft_id=https%3A%2F%2Fwww.bloomberg.com%2Ftosv2.html%3Fvid%3D%26uuid%3Db59d20a0-09f2-11e9-91bf-fb71962f5636%26url%3DL29waW5pb24vYXJ0aWNsZXMvMjAxNy0xMC0zMS90aGUtYmlnLWZvdXItb2YtdGVjaG5vbG9neQ%3D%3D&amp;rfr_id=info%3Asid%2Fen.wikipedia.org%3AFacebook\">\\n       </span>\\n       <link href=\"mw-data:TemplateStyles:r879151008\" rel=\"mw-deduplicated-inline-style\"/>\\n      </span>\\n     </li>\\n     <li id=\"cite_note-9\">\\n      <span class=\"mw-cite-backlink\">\\n       <b>\\n        <a href=\"#cite_ref-9\">\\n         ^\\n        </a>\\n       </b>\\n      </span>\\n      <span class=\"reference-text\">\\n       <a class=\"external free\" href=\"https://infiniteunknown.net/2018/03/25/dumb-fucks-julian-assange-reminds-us-what-mark-zuckerberg-thinks-of-facebook-users/comment-page-1/\" rel=\"nofollow\">\\n        https://infiniteunknown.net/2018/03/25/dumb-fucks-julian-assange-reminds-us-what-mark-zuckerberg-thinks-of-facebook-users/comment-page-1/\\n       </a>\\n      </span>\\n     </li>\\n     <li id=\"cite_note-10\">\\n      <span class=\"mw-cite-backlink\">\\n       <b>\\n        <a href=\"#cite_ref-10\">\\n         ^\\n        </a>\\n       </b>\\n      </span>\\n      <span class=\"reference-text\">\\n       <a class=\"external free\" href=\"https://www.theguardian.com/commentisfree/2018/dec/21/quit-facebook-privacy-scandal-private-messages\" rel=\"nofollow\">\\n        https://www.theguardian.com/commentisfree/2018/dec/21/quit-facebook-privacy-scandal-private-messages\\n       </a>\\n      </span>\\n     </li>\\n    </ol>\\n   </div>\\n   <!-- \\nNewPP limit report\\nParsed by mw1315\\nCached time: 20190128231212\\nCache expiry: 2073600\\nDynamic content: false\\nCPU time usage: 0.408 seconds\\nReal time usage: 0.564 seconds\\nPreprocessor visited node count: 2292/1000000\\nPreprocessor generated node count: 0/1500000\\nPost‐expand include size: 46909/2097152 bytes\\nTemplate argument size: 7438/2097152 bytes\\nHighest expansion depth: 23/40\\nExpensive parser function count: 6/500\\nUnstrip recursion depth: 0/20\\nUnstrip post‐expand size: 16245/5000000 bytes\\nNumber of Wikibase entities loaded: 1/400\\nLua time usage: 0.202/10.000 seconds\\nLua memory usage: 5.66 MB/50 MB\\n-->\\n   <!--\\nTransclusion expansion time report (%,ms,calls,template)\\n100.00%  516.008      1 -total\\n 45.38%  234.189      1 Template:Infobox_dot-com_company\\n 40.86%  210.849      1 Template:Infobox\\n 19.65%  101.402      7 Template:Cite_web\\n 10.35%   53.417      1 Template:About\\n  8.18%   42.202      1 Template:Pp-semi-indef\\n  7.98%   41.188      1 Template:Coord\\n  5.32%   27.457      5 Template:DMCA\\n  5.21%   26.861      1 Template:Start_date_and_age\\n  4.79%   24.737      5 Template:Dated_maintenance_category\\n-->\\n  </div>\\n </body>\\n</html>'"
      ]
     },
     "execution_count": 24,
     "metadata": {},
     "output_type": "execute_result"
    }
   ],
   "source": [
    "session = requests.Session()\n",
    "url = \"https://en.wikipedia.org/w/api.php\"\n",
    "\n",
    "PARAMS = {\n",
    "    'action': \"parse\",\n",
    "    'page': 'Facebook',\n",
    "    'format': \"json\",\n",
    "    'section': '0'\n",
    "}\n",
    "    #print (PARAMS)\n",
    "R = S.get(url=URL, params=PARAMS)\n",
    "data = R.json()\n",
    "text = data['parse']['text']['*']\n",
    "text\n",
    "soup = BeautifulSoup(text, \"lxml\")\n",
    "soup.prettify()\n"
   ]
  },
  {
   "cell_type": "code",
   "execution_count": null,
   "metadata": {},
   "outputs": [],
   "source": [
    "titles,content = [],[]\n",
    "for item in soup('th'):\n",
    "    titles.append(item.text)\n",
    "    #print (item)\n",
    "#print(len(titles))\n",
    "for item in soup('td'):\n",
    "    content.append(item.text)\n",
    "    #print (item)\n",
    "#print(len(content))\n",
    "#print (content[0])\n",
    "#list(zip(titles,content))\n",
    "#    contents = list(soup.stripped_strings)"
   ]
  },
  {
   "cell_type": "code",
   "execution_count": null,
   "metadata": {},
   "outputs": [],
   "source": []
  },
  {
   "cell_type": "code",
   "execution_count": null,
   "metadata": {},
   "outputs": [],
   "source": []
  },
  {
   "cell_type": "code",
   "execution_count": null,
   "metadata": {},
   "outputs": [],
   "source": []
  }
 ],
 "metadata": {
  "kernelspec": {
   "display_name": "Python 3",
   "language": "python",
   "name": "python3"
  },
  "language_info": {
   "codemirror_mode": {
    "name": "ipython",
    "version": 3
   },
   "file_extension": ".py",
   "mimetype": "text/x-python",
   "name": "python",
   "nbconvert_exporter": "python",
   "pygments_lexer": "ipython3",
   "version": "3.7.1"
  }
 },
 "nbformat": 4,
 "nbformat_minor": 2
}
