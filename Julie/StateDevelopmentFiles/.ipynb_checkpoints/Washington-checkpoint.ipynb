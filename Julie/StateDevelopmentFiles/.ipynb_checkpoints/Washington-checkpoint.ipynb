{
 "cells": [
  {
   "cell_type": "code",
   "execution_count": 45,
   "metadata": {},
   "outputs": [],
   "source": [
    "import pandas as pd\n",
    "import requests\n",
    "import textract\n",
    "import os\n",
    "from bs4 import BeautifulSoup"
   ]
  },
  {
   "cell_type": "code",
   "execution_count": 41,
   "metadata": {},
   "outputs": [
    {
     "data": {
      "text/plain": [
       "pandas.core.frame.DataFrame"
      ]
     },
     "execution_count": 41,
     "metadata": {},
     "output_type": "execute_result"
    }
   ],
   "source": [
    "washington = pd.read_html(\"http://www.atg.wa.gov/data-breach-notifications\", skiprows = 2)[1]"
   ]
  },
  {
   "cell_type": "code",
   "execution_count": 42,
   "metadata": {},
   "outputs": [],
   "source": [
    "washington.columns = ['Reported Date', 'Organization Name', 'Date of Breach']\n",
    "washington = washington.dropna()"
   ]
  },
  {
   "cell_type": "code",
   "execution_count": 54,
   "metadata": {},
   "outputs": [],
   "source": [
    "url = 'http://www.atg.wa.gov/data-breach-notifications'\n",
    "code = requests.get(url)\n",
    "plain = code.text\n",
    "s = BeautifulSoup(plain, \"html.parser\")\n",
    "y = []\n",
    "for x in s('td')[5:]:\n",
    "    if x('a'):\n",
    "        y.append(x('a')[0].get('href'))"
   ]
  },
  {
   "cell_type": "code",
   "execution_count": 59,
   "metadata": {},
   "outputs": [],
   "source": [
    "washington['PDF link'] = y"
   ]
  },
  {
   "cell_type": "code",
   "execution_count": 67,
   "metadata": {},
   "outputs": [
    {
     "name": "stdout",
     "output_type": "stream",
     "text": [
      "x\n",
      "b\"Edward J. Finn \\nOffice:   267-930-4776 \\nFax:       267-930-4771 \\nEmail:   efinn@mullen.law \\n\\n       1275 Drummers Lane, Suite 302 \\n      Wayne, PA 19087 \\n\\nJanuary 18, 2019 \\n\\nVIA EMAIL \\n\\nOffice of the Attorney General \\n1125 Washington Street SE \\nPO Box 40100 \\nOlympia, WA  98504-0100 \\nEmail: securitybreach@atg.wa.gov\\n\\nRe:           Notice of Data Security Incident \\n\\nDear Sir or Madam: \\n\\nWe represent Pharmaca Integrative Pharmacy Inc. (\\xe2\\x80\\x9cPharmaca\\xe2\\x80\\x9d), 4940 Pearl East Circle, Suite \\n301 Boulder, CO 80301, and are writing to notify your office of an incident that may affect the \\nsecurity  of  personal  information  relating  to  Washington  residents.    The  number  of  affected \\nWashington residents is unknown.  By providing this notice, Pharmaca does not waive any rights \\nor defenses regarding the applicability of Washington law, the applicability of the Washington \\ndata event notification statute, or personal jurisdiction. \\nBackground \\n\\nAfter receiving reports of fraud related to a small number of customers from payment card issuers, \\nPharmaca began an investigation, and on or around December 6, 2018, identified suspicious code \\non its point-of-sale systems.  Pharmaca immediately began working with leading security experts \\nto help determine what happened. Through this investigation, Pharmaca confirmed, on or about \\nDecember  19,  2018,  that  malicious  code  may  have  captured  customer  credit  and  debit  card \\ninformation used for purchases at certain Pharmaca stores between July 19, 2018 and December \\n12, 2018.   Since that time, Pharmaca has continued working with its payment card processor to \\nidentify potentially impacted cards, and continued its investigation to confirm the scope of the \\nincident.  Payment card information, such as credit or debit card number, expiration date, and other \\ncard data, may have been acquired. Names may also have been captured for customers making \\nswipe transactions, which represents a small portion of total cards used.   \\n\\nMullen.law \\n\\n\\x0cOffice of the Attorney General \\nJanuary 18, 2019 \\nPage 2 \\n\\nNotice to Washington Residents \\n\\nIt  cannot  be  confirmed  which  cards  used  during  the  window  of  compromise  were  actually \\nacquired.  As a result, Pharmaca is notifying all potentially impacted individuals by way of a \\nnotice on the homepage of the Pharmaca website, www.pharmaca.com.  The website notice is \\nattached here as Exhibit A.  Pharmaca is also providing substitute notice to potentially affected \\nindividuals, which includes Washington residents, by notice to major Washington media . The \\nnotice is attached here as Exhibit B.   Media and website notice are being provided on January \\n18,  2019.    As  Pharmaca  does  not  store  names  or  addresses  associated  with  point-of-sale \\ntransactions, Pharmaca is not in possession of identifiable information that would allow notice to \\nbe provided via mail.  \\nAdditionally, Pharmaca is providing potentially impacted individuals with guidance on how to \\nbetter protect against identity theft and fraud, including information on how to place a fraud alert \\nand security freeze on one's credit file, the contact details for the national consumer reporting \\nagencies, information on how to obtain a free credit report, a reminder to remain vigilant for \\nincidents of fraud and identity theft by reviewing account statements and monitoring free credit \\nreports,  and  encouragement  to  contact  the  Federal  Trade  Commission,  their  state  Attorney \\nGeneral, and law enforcement to report attempted or actual identity theft and fraud. Pharmaca is \\nalso providing written notice of this incident to other state regulators as necessary.  \\n\\nContact Information \\n\\nShould you have any questions regarding this notification or other aspects of the data security \\nevent, please contact us at (267) 930-4776. \\n\\nVery truly yours, \\n\\nEdward J. Finn of \\nMULLEN COUGHLIN LLC \\n\\nEJF/vfr \\nEnclosure \\n\\ncc: \\n\\nOffice of the Attorney General \\nConsumer Protection Division \\n800 5th Ave., Suite 2000 \\nSeattle, WA  98104-3188 \\nEmail: securitybreach@atg.wa.gov\\n\\nMullen.law \\n\\n\\x0cEXHIBIT A \\n\\n\\x0cPharmaca- Website Notice \\n\\nNOTICE OF DATA BREACH \\n\\nPharmaca announced today that it has taken measures to investigate and address a data security incident \\ninvolving  payment  information  for  some  customers  who  made  purchases  at  certain  Pharmaca  retail \\nlocations between July 19, 2018 and December 12, 2018.  Pharmaca immediately responded and has since \\nsecured its systems.   \\n\\nImportantly, this incident does not include medical records, prescription information, Social Security \\nnumbers,  driver\\xe2\\x80\\x99s  license  numbers,  passport  numbers,  government  identification  numbers,  or  other \\nsensitive information about Pharmaca\\xe2\\x80\\x99s customers. This incident did not affect online purchases.\\n\\nWhat Happened?  After receiving reports of fraud related to a small number of customers from payment \\ncard issuers, Pharmaca began an investigation, and on or around December 6, 2018, identified suspicious \\ncode on its point-of-sale systems.  Pharmaca immediately began working with leading security experts to \\nhelp determine what happened. Through this investigation, Pharmaca confirmed, on or about December 19, \\n2018, that malicious code may have captured customer credit and debit card information used for purchases \\nat certain Pharmaca stores between July 19, 2018 and December 12, 2018.   \\n\\nWhat  Information  Was  Involved?    Payment  card  information,  such  as  credit  or  debit  card  number, \\nexpiration date, and other card data, may have been acquired. Names may also have been captured for \\ncustomers making swipe transactions.    \\n\\nWhat We Are Doing.  Information privacy and security are among our highest priorities, and we take this \\nincident seriously. Once discovered, we quickly took steps to determine how the information may have \\nbeen accessed and took action to ensure our systems were secure. Pharmaca\\xe2\\x80\\x99s systems do not store customer \\nnames and addresses for credit card transactions.  Pharmaca is notifying potentially impacted individuals \\nby way of this notice, as well as by providing notice to certain state media outlets.  \\n\\nWhat You Can Do.  Please review the \\xe2\\x80\\x9cSteps You Can Take to Prevent Identity Theft and Fraud,\\xe2\\x80\\x9d below. \\n\\nFor More Information. We understand you may have questions about this incident that are not addressed \\nin this letter. If you have additional questions, or need assistance please call our dedicated information line \\nat 866-904-6220 from 6am to 6pm PST, Monday through Friday, and 8am to 5pm PST Saturday through \\nSunday. \\n\\nPharmaca takes the privacy and security of the personal information in our care seriously. We regret any \\nconcern or inconvenience this may have caused you. \\n\\nSteps You Can Take to Prevent Identity Theft and Fraud\\n\\nMonitor Your Accounts.   \\nCredit Reports.  We encourage you to remain vigilant against incidents of identity theft and fraud, to review \\nyour  account  statements,  and  to  monitor  your  credit  reports  for  suspicious  activity. Customers  should \\nimmediately report any unauthorized charges to their card issuer.  The phone number to call is usually on \\nthe back of the credit or debit card.    \\n\\n\\x0cPharmaca- Website Notice \\n\\nFraud Alerts and Security Freezes.  At no charge, you can also have these credit bureaus place a \\xe2\\x80\\x9cfraud \\nalert\\xe2\\x80\\x9d on your file that alerts creditors to take additional steps to verify your identity prior to granting credit \\nin your name. You have the right to place a \\xe2\\x80\\x9csecurity freeze\\xe2\\x80\\x9d on your credit report, which will prohibit a \\nconsumer  reporting  agency  from  releasing  information  in  your  credit  report  without  your  express \\nauthorization.  You can obtain more information about security freezes and fraud alerts by contacting the \\nconsumer reporting agencies, below: \\n\\nTransUnion \\nP.O. Box 2000 \\n\\nChester, PA 19016 \\n1-800-916-8800 \\n\\nEquifax \\n\\nPO Box 105788 \\n\\nAtlanta, GA 30348-5788 \\n\\n1-800-685-1111 \\n\\nwww.experian.com/freeze/center.ht\\n\\nwww.transunion.com/credi\\n\\nwww.equifax.com/personal/credi\\n\\nt-freeze\\n\\nt-report-services \\n\\nExperian \\n\\nPO Box 9554 \\n\\nAllen, TX 75013 \\n1-888-397-3742 \\n\\nml \\n\\nAdditional Information.  You can further educate yourself regarding identity theft, security freezes, fraud \\nalerts, and the steps you can take to protect yourself against identity theft and fraud by contacting the Federal \\nTrade Commission or your state Attorney General. The Federal Trade Commission can be reached at: 600 \\nPennsylvania Avenue NW, Washington, DC 20580; www.identitytheft.gov; 1-877-ID-THEFT (1-877-438-\\n4338); and TTY: 1-866-653-4261. The Federal Trade Commission encourages those who discover that their \\ninformation has been misused to file a complaint with them.  Instances of known or suspected identity theft \\nshould be reported to law enforcement, the Federal Trade Commission, and your state Attorney General. \\nFor New Mexico residents, you have rights pursuant to the Fair Credit Reporting Act, such as the right to \\nbe told if information in your credit file has been used against you, the right to know what is in your credit \\nfile,  the  right  to  ask  for  your  credit  score,  and  the  right  to  dispute  incomplete  or  inaccurate \\ninformation.  Further, pursuant to the Fair Credit Reporting Act, the consumer reporting agencies must \\ncorrect or delete inaccurate, incomplete, or unverifiable information; consumer reporting agencies may not \\nreport outdated negative information; access to your file is limited; you must give your consent for credit \\nreports to be provided to employers; you may limit \\xe2\\x80\\x9cprescreened\\xe2\\x80\\x9d offers of credit and insurance you get \\nbased  on  information  in  your  credit  report;  and  you  may  seek  damages  from  violator. You  may  have \\nadditional rights under the Fair Credit Reporting Act not summarized here. Identity theft victims and active \\nduty military personnel have specific additional rights pursuant to the Fair Credit Reporting Act.  You can \\nto \\nvisiting \\nwww.consumerfinance.gov/f/201504_cfpb_summary_your-rights-under-fcra.pdf, or by writing Consumer \\nResponse Center, Room 130-A, Federal Trade Commission, 600 Pennsylvania Ave. N.W., Washington, \\nD.C. 20580.   \\n\\nthe  Fair  Credit  Reporting  Act \\n\\npursuant \\n\\nreview \\n\\nrights \\n\\nyour \\n\\nby \\n\\nto \\n\\n\\x0cEXHIBIT B \\n\\n\\x0cMedia Contact: \\nEd Finn \\n267-930-4776\\n\\nPharmaca Integrative Pharmacy Provides Notice of Data Breach \\n\\nBoulder,  Colorado,  January  18,  2019 \\xe2\\x80\\x93  Pharmaca  Integrative  Pharmacy,  Inc.  (\\xe2\\x80\\x9cPharmaca\\xe2\\x80\\x9d)  which  is \\nheadquartered in Boulder, Colorado, announced today that it has taken measures to investigate and address \\na data security incident involving payment information for some customers who made purchases at certain \\nPharmaca  retail  locations  between  July  19,  2018  and  December  12,  2018.    Pharmaca  immediately \\nresponded and has since secured its systems.   \\n\\nImportantly, this incident does not include medical records, prescription information, Social Security \\nnumbers,  driver\\xe2\\x80\\x99s  license  numbers,  passport  numbers,  government  identification  numbers,  or  other \\nsensitive information about Pharmaca\\xe2\\x80\\x99s customers. This incident did not affect online purchases.\\n\\nWhat Happened? After receiving reports of fraud related to a small number of customers from payment \\ncard issuers, Pharmaca began an investigation, and on or around December 6, 2018, identified suspicious \\ncode on its point-of-sale systems.  Pharmaca immediately began working with leading security experts to \\nhelp determine what happened. Through this investigation, Pharmaca confirmed, on or about December 19, \\n2018, that malicious code may have captured customer credit and debit card information used for purchases \\nat certain Pharmaca stores between July 19, 2018 and December 12, 2018.  \\n\\nWhat Information Was Involved?\\nPayment card information, such as credit or debit card number, expiration date, and other card data, may \\nhave been acquired. Names may also have been captured for customers making swipe transactions.  \\n\\nWhat Pharmaca is Doing. Information privacy and security are among Pharmaca\\xe2\\x80\\x99s highest priorities, and \\nPharmaca takes this incident seriously. Once discovered, Pharmaca quickly took steps to determine how \\nthe information may have been accessed and took action to ensure its systems were secure.  Pharmaca\\xe2\\x80\\x99s \\nsystems do not store customer names and addresses for credit card transactions, Pharmaca is notifying \\npotentially  impacted  individuals  by  way  of  a  notice  on  the  homepage  of  the  Pharmaca  website, \\nwww.pharmaca.com, as well as providing notice to media outlets.   \\n\\nFor  More  Information.  Pharmaca  has  established  a  dedicated  assistance  line  for  individuals  seeking \\nadditional information regarding this incident. If you believe you were impacted by this incident, you can \\ncall 866-904-6220 from 6am to 6pm PST, Monday through Friday, and 8am to 5pm PST Saturday through \\nSunday, excluding major holidays.  \\n\\nWhat  Individuals  Can  Do.  Individuals  may  contact  the  dedicated  assistance  line,  or  visit  Pharmaca\\xe2\\x80\\x99s \\nwebsite at www.pharmaca.com to learn more about steps they can take in response to this incident.   \\n\\nAbout Pharmaca \\nPharmaca is a full-service pharmacy offering a blend of traditional pharmacy services and natural health \\nsolutions. Pharmaca is based in Boulder, Colorado and operates approximately 32 locations in the western \\nUnited States, in California, Colorado, New Mexico, Oregon, and Washington.\\n\\n\\x0c\"\n"
     ]
    }
   ],
   "source": [
    "import time\n",
    "start_time = time.time()\n",
    "\n",
    "def get_text(pdf_link):\n",
    "    \n",
    "    total_url = pdf_link\n",
    "        \n",
    "    response = requests.get(total_url)\n",
    "    my_raw_data = response.content\n",
    "\n",
    "    with open(\"new_pdf.pdf\", 'wb') as my_data:\n",
    "        my_data.write(my_raw_data)\n",
    "    my_data.close()\n",
    "        \n",
    "    file = textract.process('new_pdf.pdf')\n",
    "        \n",
    "    os.remove(\"new_pdf.pdf\")\n",
    "\n",
    "    return file\n",
    "\n",
    "washington['PDF text'] = washington['PDF link'].apply(get_text)\n",
    "\n",
    "print(\"--- %s seconds ---\" % (time.time() - start_time))    "
   ]
  },
  {
   "cell_type": "code",
   "execution_count": null,
   "metadata": {},
   "outputs": [],
   "source": []
  }
 ],
 "metadata": {
  "kernelspec": {
   "display_name": "Python 3",
   "language": "python",
   "name": "python3"
  },
  "language_info": {
   "codemirror_mode": {
    "name": "ipython",
    "version": 3
   },
   "file_extension": ".py",
   "mimetype": "text/x-python",
   "name": "python",
   "nbconvert_exporter": "python",
   "pygments_lexer": "ipython3",
   "version": "3.7.1"
  }
 },
 "nbformat": 4,
 "nbformat_minor": 2
}
