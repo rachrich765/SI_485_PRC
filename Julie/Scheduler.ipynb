{
 "cells": [
  {
   "cell_type": "code",
   "execution_count": null,
   "metadata": {},
   "outputs": [],
   "source": [
    "from datetime import date\n",
    "from apscheduler.scheduler import Scheduler\n",
    "\n",
    "# Start the scheduler\n",
    "sched = Scheduler()\n",
    "sched.start()\n",
    "\n",
    "# Define the function that is to be executed\n",
    "def my_job(text):\n",
    "    print text\n",
    "\n",
    "# The job will be executed on November 6th, 2009\n",
    "exec_date = date(2009, 11, 6)\n",
    "\n",
    "# Store the job in a variable in case we want to cancel it\n",
    "job = sched.add_date_job(my_job, exec_date, ['text'])\n",
    "\n",
    "# The job will be executed on November 6th, 2009 at 16:30:05\n",
    "job = sched.add_date_job(my_job, datetime(2009, 11, 6, 16, 30, 5), ['text'])"
   ]
  }
 ],
 "metadata": {
  "kernelspec": {
   "display_name": "Python 3",
   "language": "python",
   "name": "python3"
  },
  "language_info": {
   "codemirror_mode": {
    "name": "ipython",
    "version": 3
   },
   "file_extension": ".py",
   "mimetype": "text/x-python",
   "name": "python",
   "nbconvert_exporter": "python",
   "pygments_lexer": "ipython3",
   "version": "3.7.1"
  }
 },
 "nbformat": 4,
 "nbformat_minor": 2
}
