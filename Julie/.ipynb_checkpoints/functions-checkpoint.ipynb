{
 "cells": [
  {
   "cell_type": "markdown",
   "metadata": {},
   "source": [
    "## Oregon"
   ]
  },
  {
   "cell_type": "code",
   "execution_count": 1,
   "metadata": {},
   "outputs": [],
   "source": [
    "# 156.54826593399048 seconds \n",
    "# about 2.5 min\n",
    "\n",
    "from bs4 import BeautifulSoup\n",
    "import pandas as pd\n",
    "import textract\n",
    "import requests\n",
    "import os\n",
    "\n",
    "def basic_beautiful_soup(url):\n",
    "    \n",
    "    code = requests.get(url)\n",
    "    plain = code.text\n",
    "    s = BeautifulSoup(plain, \"html.parser\")\n",
    "\n",
    "def update_Oregon(most_recent_breach):\n",
    "\n",
    "    more_info_urls = []\n",
    "    main_url = 'https://justice.oregon.gov/consumer/DataBreach/Home/'\n",
    "    oregon = pd.read_html(main_url)[0]\n",
    "    \n",
    "    \n",
    "    s = basic_beautiful_soup(main_url)\n",
    "    \n",
    "    for x in s('table', {'class':\"webgrid-table\", 'id':\"grid\"}):\n",
    "        for item in x('a'):\n",
    "            more_info_urls.append('https://justice.oregon.gov' + item.get('href'))\n",
    "    \n",
    "    breaches_info = []\n",
    "    for url in more_info_urls:\n",
    "        while url != most_recent_breach:\n",
    "            try:\n",
    "                temp = pd.read_html(url)[0].set_index(0).to_dict()[1]\n",
    "                breaches_info.append(temp)#more_info = pd.concat([more_info, temp])\n",
    "            except:\n",
    "                pass\n",
    "            most_recent_breach = url\n",
    "    \n",
    "    more_info = pd.DataFrame(breaches_info)\n",
    "\n",
    "    more_info = more_info.drop(columns = ['Reported Date:', 'Date(s) of Breach:'])\n",
    "    more_info.columns = ['Date(s) of Discovery of Breach', 'Notice Provided to Consumers' ,'Organization']\n",
    "\n",
    "    df = pd.merge(oregon, more_info)\n",
    "    \n",
    "    return df, most_recent_breach\n"
   ]
  },
  {
   "cell_type": "code",
   "execution_count": null,
   "metadata": {},
   "outputs": [],
   "source": []
  }
 ],
 "metadata": {
  "kernelspec": {
   "display_name": "Python 3",
   "language": "python",
   "name": "python3"
  },
  "language_info": {
   "codemirror_mode": {
    "name": "ipython",
    "version": 3
   },
   "file_extension": ".py",
   "mimetype": "text/x-python",
   "name": "python",
   "nbconvert_exporter": "python",
   "pygments_lexer": "ipython3",
   "version": "3.7.1"
  }
 },
 "nbformat": 4,
 "nbformat_minor": 2
}
