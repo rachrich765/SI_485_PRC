{
 "cells": [
  {
   "cell_type": "code",
   "execution_count": null,
   "metadata": {},
   "outputs": [],
   "source": [
    "#IMPORT FILES\n",
    "\n",
    "from bs4 import BeautifulSoup\n",
    "import pandas as pd\n",
    "import textract\n",
    "import requests\n",
    "import os\n",
    "\n",
    "\n",
    "from functions import *\n",
    "\n",
    "\n"
   ]
  },
  {
   "cell_type": "markdown",
   "metadata": {},
   "source": [
    "## INSERT CRON SCHEDULING HERE"
   ]
  },
  {
   "cell_type": "markdown",
   "metadata": {},
   "source": [
    "### Read in the most recent breach for each state and the existing csv"
   ]
  },
  {
   "cell_type": "code",
   "execution_count": null,
   "metadata": {},
   "outputs": [],
   "source": [
    "recent = pd.read_csv('recent.csv').set_index('state')"
   ]
  },
  {
   "cell_type": "code",
   "execution_count": null,
   "metadata": {},
   "outputs": [],
   "source": [
    "main = pd.read_csv('data_breach_chronology.csv')"
   ]
  },
  {
   "cell_type": "code",
   "execution_count": null,
   "metadata": {},
   "outputs": [],
   "source": [
    "def update_Oregon(most_recent_breach):\n",
    "\n",
    "    more_info_urls = []\n",
    "    main_url = 'https://justice.oregon.gov/consumer/DataBreach/Home/'\n",
    "    oregon = pd.read_html(main_url)[0]\n",
    "\n",
    "    s = basic_beautiful_soup(main_url)\n",
    "    \n",
    "    for x in s('table', {'class':\"webgrid-table\", 'id':\"grid\"}):\n",
    "        for item in x('a'):\n",
    "            more_info_urls.append('https://justice.oregon.gov' + item.get('href'))\n",
    "    \n",
    "    breaches_info = []\n",
    "    for url in more_info_urls:\n",
    "        while url != most_recent_breach:\n",
    "            try:\n",
    "                temp = pd.read_html(url)[0].set_index(0).to_dict()[1]\n",
    "                breaches_info.append(temp)#more_info = pd.concat([more_info, temp])\n",
    "            except:\n",
    "                pass\n",
    "            most_recent_breach = url\n",
    "    \n",
    "    more_info = pd.DataFrame(breaches_info)\n",
    "\n",
    "    more_info = more_info.drop(columns = ['Reported Date:', 'Date(s) of Breach:'])\n",
    "    more_info.columns = ['Date(s) of Discovery of Breach', 'Notice Provided to Consumers' ,'Organization']\n",
    "\n",
    "    df = pd.merge(oregon, more_info)\n",
    "    \n",
    "    return df, most_recent_breach"
   ]
  },
  {
   "cell_type": "markdown",
   "metadata": {},
   "source": [
    "### Update all States"
   ]
  },
  {
   "cell_type": "code",
   "execution_count": 35,
   "metadata": {},
   "outputs": [],
   "source": [
    "or_df, or_recent = update_Oregon(recent['recent']['Oregon'])\n",
    "recent['recent']['Oregon'] = or_recent\n",
    "\n",
    "ca_df, ca_recent = update_California(recent['recent']['California'])\n",
    "recent['recent']['Califoria'] = or_recent\n",
    "\n",
    "Indiana, \n",
    "Iowa, \n",
    "Delaware,\n",
    "Maine, \n",
    "Maryland, \n",
    "Montana, \n",
    "Massachusetts,\n",
    "New Hampshire, \n",
    "New Jersey, \n",
    "Department of Health,\n",
    "Oregon,\n",
    "Vermont,\n",
    "Washington,\n",
    "Wisconsin,"
   ]
  },
  {
   "cell_type": "markdown",
   "metadata": {},
   "source": [
    "### Combine all dataframes"
   ]
  },
  {
   "cell_type": "code",
   "execution_count": null,
   "metadata": {},
   "outputs": [],
   "source": [
    "#LOOK UP EFFICIENT WAY"
   ]
  },
  {
   "cell_type": "markdown",
   "metadata": {},
   "source": [
    "### Update files"
   ]
  },
  {
   "cell_type": "code",
   "execution_count": 36,
   "metadata": {},
   "outputs": [],
   "source": [
    "recent.to_csv('recent.csv')\n",
    "data_breach_chronology.to_csv('data_breach_chronology.csv')"
   ]
  },
  {
   "cell_type": "code",
   "execution_count": null,
   "metadata": {},
   "outputs": [],
   "source": []
  }
 ],
 "metadata": {
  "kernelspec": {
   "display_name": "Python 3",
   "language": "python",
   "name": "python3"
  },
  "language_info": {
   "codemirror_mode": {
    "name": "ipython",
    "version": 3
   },
   "file_extension": ".py",
   "mimetype": "text/x-python",
   "name": "python",
   "nbconvert_exporter": "python",
   "pygments_lexer": "ipython3",
   "version": "3.7.1"
  }
 },
 "nbformat": 4,
 "nbformat_minor": 2
}
