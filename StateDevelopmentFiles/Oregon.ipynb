{
 "cells": [
  {
   "cell_type": "code",
   "execution_count": 1,
   "metadata": {},
   "outputs": [],
   "source": [
    "import pandas as pd\n",
    "import requests\n",
    "import textract\n",
    "import os\n",
    "from bs4 import BeautifulSoup"
   ]
  },
  {
   "cell_type": "code",
   "execution_count": 2,
   "metadata": {},
   "outputs": [],
   "source": [
    "url = 'https://justice.oregon.gov/consumer/DataBreach/Home/'"
   ]
  },
  {
   "cell_type": "code",
   "execution_count": 3,
   "metadata": {},
   "outputs": [],
   "source": [
    "oregon = pd.read_html(url)[0]#, skiprows = 2)[1]"
   ]
  },
  {
   "cell_type": "markdown",
   "metadata": {},
   "source": [
    "## THERE IS MORE DATA STORED IN POP UPS - not sure how to scrape"
   ]
  },
  {
   "cell_type": "code",
   "execution_count": 4,
   "metadata": {},
   "outputs": [],
   "source": [
    "code = requests.get(url)\n",
    "plain = code.text\n",
    "s = BeautifulSoup(plain, \"html.parser\")\n",
    "#y = []\n",
    "#for x in s('td')[5:]:\n",
    "#    if x('a'):\n",
    "#        y.append(x('a')[0].get('href'))"
   ]
  },
  {
   "cell_type": "code",
   "execution_count": null,
   "metadata": {},
   "outputs": [],
   "source": [
    "#url2 = \"https://justice.oregon.gov/consumer/DataBreach/Home/Details/647593374\"\n",
    "#x = pd.read_html(url2, header = 0)\n",
    "#x"
   ]
  },
  {
   "cell_type": "code",
   "execution_count": null,
   "metadata": {},
   "outputs": [],
   "source": [
    "more_info_urls = []\n",
    "for x in s('table', {'class':\"webgrid-table\", 'id':\"grid\"}):\n",
    "    for item in x('a'):\n",
    "        more_info_urls.append('https://justice.oregon.gov' + item.get('href'))\n",
    "breaches_info = []\n",
    "for url in more_info_urls:\n",
    "    try:\n",
    "        temp = pd.read_html(url)[0].set_index(0).to_dict()[1]\n",
    "        breaches_info.append(temp)#more_info = pd.concat([more_info, temp])\n",
    "    except:\n",
    "        pass\n",
    "more_info = pd.DataFrame(breaches_info)"
   ]
  },
  {
   "cell_type": "code",
   "execution_count": null,
   "metadata": {},
   "outputs": [],
   "source": [
    "more_info = more_info.drop(columns = ['Reported Date:', 'Date(s) of Breach:'])\n",
    "more_info.columns = ['Organization', 'Date(s) of Discovery of Breach', 'Notice Provided to Consumers']"
   ]
  },
  {
   "cell_type": "code",
   "execution_count": null,
   "metadata": {},
   "outputs": [],
   "source": [
    "oregon.join(more_info, on='Organization')"
   ]
  },
  {
   "cell_type": "code",
   "execution_count": null,
   "metadata": {},
   "outputs": [],
   "source": []
  }
 ],
 "metadata": {
  "kernelspec": {
   "display_name": "Python 3",
   "language": "python",
   "name": "python3"
  },
  "language_info": {
   "codemirror_mode": {
    "name": "ipython",
    "version": 3
   },
   "file_extension": ".py",
   "mimetype": "text/x-python",
   "name": "python",
   "nbconvert_exporter": "python",
   "pygments_lexer": "ipython3",
   "version": "3.7.1"
  }
 },
 "nbformat": 4,
 "nbformat_minor": 2
}
