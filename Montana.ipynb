{
 "cells": [
  {
   "cell_type": "code",
   "execution_count": 1,
   "metadata": {
    "scrolled": true
   },
   "outputs": [],
   "source": []
  },
  {
   "cell_type": "code",
   "execution_count": 1,
   "metadata": {},
   "outputs": [],
   "source": [
    "# import os  \n",
    "# from selenium import webdriver  \n",
    "# from selenium.webdriver.common.keys import Keys  \n",
    "# from selenium.webdriver.chrome.options import Options  \n",
    "\n",
    "# chrome_options = Options()  \n",
    "# chrome_options.add_argument(\"--headless\")  \n",
    "# chrome_options.binary_location = '/Applications/Google Chrome.app'    \n",
    "\n",
    "# driver = webdriver.Chrome(executable_path=os.path.abspath(\"chromedriver\"),   chrome_options=chrome_options)  \n",
    "# driver.get(\"http://www.duo.com\")  \n",
    "\n",
    "# magnifying_glass = driver.find_element_by_id(\"js-open-icon\")  \n",
    "# if magnifying_glass.is_displayed():  \n",
    "#     magnifying_glass.click()  \n",
    "# else:  \n",
    "#     menu_button = driver.find_element_by_css_selector(\".menu-trigger.local\")  \n",
    "#     menu_button.click()  \n",
    "\n",
    "# search_field = driver.find_element_by_id(\"site-search\")  \n",
    "# search_field.clear()  \n",
    "# search_field.send_keys(\"Olabode\")  \n",
    "# search_field.send_keys(Keys.RETURN)  \n",
    "# assert \"Looking Back at Android Security in 2016\" in driver.page_source\n",
    "# driver.close()"
   ]
  },
  {
   "cell_type": "code",
   "execution_count": 2,
   "metadata": {},
   "outputs": [],
   "source": [
    "import pandas as pd"
   ]
  },
  {
   "cell_type": "code",
   "execution_count": 10,
   "metadata": {},
   "outputs": [],
   "source": [
    "import time\n",
    "from selenium import webdriver\n",
    "from selenium.webdriver.support.ui import WebDriverWait\n",
    "\n",
    "driver = webdriver.Chrome('./chromedriver')  # Optional argument, if not specified will search path.\n",
    "driver.get('https://dojmt.gov/consumer/consumers-known-data-breach-incidents/#');\n",
    "# search_box = driver.find_element_by_name('q')\n",
    "# search_box.send_keys('ChromeDriver')\n",
    "# search_box.submit()\n",
    "page = driver.page_source\n",
    "button = driver.find_element_by_css_selector(\"#table_1_wrapper > div.dt-buttons > a.dt-button.buttons-csv.buttons-html5.DTTT_button.DTTT_button_csv\")\n",
    "\n",
    "#button varriable is where the driver is supposed to click on the csv link, and download it.\n",
    "#it does download the csv b\n",
    "\n",
    "# button = driver.find_element_by_css_selector(\"table_1_wrapper > div.dt-buttons > a.dt-button.buttons-csv.buttons-html5.DTTT_button.DTTT_button_csv > span\")\n",
    "#time.sleep(5)\n",
    "button.click()\n",
    "def every_downloads_chrome(driver):\n",
    "    if not driver.current_url.startswith(\"chrome://downloads\"):\n",
    "        driver.get(\"chrome://downloads/\")\n",
    "    return driver.execute_script(\"\"\"\n",
    "        var items = downloads.Manager.get().items_;\n",
    "        if (items.every(e => e.state === \"COMPLETE\"))\n",
    "            return items.map(e => e.file_url);\n",
    "        \"\"\")\n",
    "\n",
    "\n",
    "# waits for all the files to be completed and returns the paths\n",
    "paths = WebDriverWait(driver, 120, 1).until(every_downloads_chrome)\n",
    "x = paths[0][7:]\n",
    "# time.sleep(100)\n",
    "driver.quit()\n",
    "# print(page)"
   ]
  },
  {
   "cell_type": "code",
   "execution_count": 11,
   "metadata": {},
   "outputs": [
    {
     "name": "stdout",
     "output_type": "stream",
     "text": [
      "/Users/julieburke/Downloads/Data%20Breach%20Notifications%20(1).csv\n"
     ]
    }
   ],
   "source": [
    "print(x)"
   ]
  },
  {
   "cell_type": "code",
   "execution_count": 12,
   "metadata": {},
   "outputs": [],
   "source": [
    "x = x.replace('%20',' ')"
   ]
  },
  {
   "cell_type": "code",
   "execution_count": 13,
   "metadata": {},
   "outputs": [],
   "source": [
    "data = pd.read_csv(x)"
   ]
  },
  {
   "cell_type": "code",
   "execution_count": 14,
   "metadata": {},
   "outputs": [
    {
     "data": {
      "text/html": [
       "<div>\n",
       "<style scoped>\n",
       "    .dataframe tbody tr th:only-of-type {\n",
       "        vertical-align: middle;\n",
       "    }\n",
       "\n",
       "    .dataframe tbody tr th {\n",
       "        vertical-align: top;\n",
       "    }\n",
       "\n",
       "    .dataframe thead th {\n",
       "        text-align: right;\n",
       "    }\n",
       "</style>\n",
       "<table border=\"1\" class=\"dataframe\">\n",
       "  <thead>\n",
       "    <tr style=\"text-align: right;\">\n",
       "      <th></th>\n",
       "      <th>BUSINESS NAME</th>\n",
       "      <th>NOTIFICATION DOCUMENTS</th>\n",
       "      <th>START OF BREACH</th>\n",
       "      <th>END OF BREACH</th>\n",
       "      <th>DATE REPORTED</th>\n",
       "      <th>MONTANANS AFFECTED</th>\n",
       "    </tr>\n",
       "  </thead>\n",
       "  <tbody>\n",
       "    <tr>\n",
       "      <th>0</th>\n",
       "      <td>Image-I-Nation Technologies, Inc.</td>\n",
       "      <td>Breach Notification/Details</td>\n",
       "      <td>11/01/2018</td>\n",
       "      <td>11/15/2018</td>\n",
       "      <td>02/08/2019</td>\n",
       "      <td>573</td>\n",
       "    </tr>\n",
       "    <tr>\n",
       "      <th>1</th>\n",
       "      <td>Windham</td>\n",
       "      <td>Breach Notification/Details</td>\n",
       "      <td>12/19/2018</td>\n",
       "      <td>01/17/2019</td>\n",
       "      <td>02/08/2019</td>\n",
       "      <td>1</td>\n",
       "    </tr>\n",
       "    <tr>\n",
       "      <th>2</th>\n",
       "      <td>Katz, Sapper &amp; Miller (KSM)</td>\n",
       "      <td>BreachNotice/Details</td>\n",
       "      <td>01/05/2019</td>\n",
       "      <td>01/05/2019</td>\n",
       "      <td>02/08/2019</td>\n",
       "      <td>6</td>\n",
       "    </tr>\n",
       "    <tr>\n",
       "      <th>3</th>\n",
       "      <td>Aspire Financial Services, LLC</td>\n",
       "      <td>BreachNotification/Details</td>\n",
       "      <td>12/05/2018</td>\n",
       "      <td>01/17/2019</td>\n",
       "      <td>02/08/2019</td>\n",
       "      <td>1</td>\n",
       "    </tr>\n",
       "    <tr>\n",
       "      <th>4</th>\n",
       "      <td>Marquette Management</td>\n",
       "      <td>BreachNotification/Details</td>\n",
       "      <td>10/03/2018</td>\n",
       "      <td>10/04/2018</td>\n",
       "      <td>02/07/2019</td>\n",
       "      <td>1</td>\n",
       "    </tr>\n",
       "    <tr>\n",
       "      <th>5</th>\n",
       "      <td>Capital One</td>\n",
       "      <td>BreachNotification/Details</td>\n",
       "      <td>07/07/2018</td>\n",
       "      <td>11/08/2018</td>\n",
       "      <td>02/07/2019</td>\n",
       "      <td>8</td>\n",
       "    </tr>\n",
       "    <tr>\n",
       "      <th>6</th>\n",
       "      <td>Pharmacy Times Office of Continuing Profession...</td>\n",
       "      <td>Breach Notification/Details</td>\n",
       "      <td>05/11/2018</td>\n",
       "      <td>07/06/2018</td>\n",
       "      <td>02/06/2019</td>\n",
       "      <td>171</td>\n",
       "    </tr>\n",
       "    <tr>\n",
       "      <th>7</th>\n",
       "      <td>Abbott Laboratories</td>\n",
       "      <td>Breach Notification/Details</td>\n",
       "      <td>01/09/2019</td>\n",
       "      <td>01/19/2019</td>\n",
       "      <td>02/06/2019</td>\n",
       "      <td>9</td>\n",
       "    </tr>\n",
       "    <tr>\n",
       "      <th>8</th>\n",
       "      <td>Don Best Sports Corporation and DBS Canada Cor...</td>\n",
       "      <td>Breach Notification/Details</td>\n",
       "      <td>10/12/2018</td>\n",
       "      <td>10/28/2018</td>\n",
       "      <td>02/06/2019</td>\n",
       "      <td>49</td>\n",
       "    </tr>\n",
       "    <tr>\n",
       "      <th>9</th>\n",
       "      <td>Graf &amp; Sons Inc.</td>\n",
       "      <td>Breach Notification/Details</td>\n",
       "      <td>01/19/2019</td>\n",
       "      <td>01/30/2019</td>\n",
       "      <td>02/06/2019</td>\n",
       "      <td>20</td>\n",
       "    </tr>\n",
       "  </tbody>\n",
       "</table>\n",
       "</div>"
      ],
      "text/plain": [
       "                                       BUSINESS NAME  \\\n",
       "0                  Image-I-Nation Technologies, Inc.   \n",
       "1                                            Windham   \n",
       "2                        Katz, Sapper & Miller (KSM)   \n",
       "3                     Aspire Financial Services, LLC   \n",
       "4                               Marquette Management   \n",
       "5                                        Capital One   \n",
       "6  Pharmacy Times Office of Continuing Profession...   \n",
       "7                                Abbott Laboratories   \n",
       "8  Don Best Sports Corporation and DBS Canada Cor...   \n",
       "9                                   Graf & Sons Inc.   \n",
       "\n",
       "        NOTIFICATION DOCUMENTS START OF BREACH END OF BREACH DATE REPORTED  \\\n",
       "0  Breach Notification/Details      11/01/2018    11/15/2018    02/08/2019   \n",
       "1  Breach Notification/Details      12/19/2018    01/17/2019    02/08/2019   \n",
       "2         BreachNotice/Details      01/05/2019    01/05/2019    02/08/2019   \n",
       "3   BreachNotification/Details      12/05/2018    01/17/2019    02/08/2019   \n",
       "4   BreachNotification/Details      10/03/2018    10/04/2018    02/07/2019   \n",
       "5   BreachNotification/Details      07/07/2018    11/08/2018    02/07/2019   \n",
       "6  Breach Notification/Details      05/11/2018    07/06/2018    02/06/2019   \n",
       "7  Breach Notification/Details      01/09/2019    01/19/2019    02/06/2019   \n",
       "8  Breach Notification/Details      10/12/2018    10/28/2018    02/06/2019   \n",
       "9  Breach Notification/Details      01/19/2019    01/30/2019    02/06/2019   \n",
       "\n",
       "   MONTANANS AFFECTED  \n",
       "0                 573  \n",
       "1                   1  \n",
       "2                   6  \n",
       "3                   1  \n",
       "4                   1  \n",
       "5                   8  \n",
       "6                 171  \n",
       "7                   9  \n",
       "8                  49  \n",
       "9                  20  "
      ]
     },
     "execution_count": 14,
     "metadata": {},
     "output_type": "execute_result"
    }
   ],
   "source": [
    "data.head(10)"
   ]
  },
  {
   "cell_type": "code",
   "execution_count": 15,
   "metadata": {},
   "outputs": [
    {
     "data": {
      "text/plain": [
       "25"
      ]
     },
     "execution_count": 15,
     "metadata": {},
     "output_type": "execute_result"
    }
   ],
   "source": [
    "len(data)"
   ]
  },
  {
   "cell_type": "code",
   "execution_count": null,
   "metadata": {},
   "outputs": [],
   "source": []
  }
 ],
 "metadata": {
  "kernelspec": {
   "display_name": "Python 3",
   "language": "python",
   "name": "python3"
  },
  "language_info": {
   "codemirror_mode": {
    "name": "ipython",
    "version": 3
   },
   "file_extension": ".py",
   "mimetype": "text/x-python",
   "name": "python",
   "nbconvert_exporter": "python",
   "pygments_lexer": "ipython3",
   "version": "3.7.1"
  }
 },
 "nbformat": 4,
 "nbformat_minor": 2
}
